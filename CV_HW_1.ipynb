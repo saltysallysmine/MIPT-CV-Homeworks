{
  "cells": [
    {
      "cell_type": "markdown",
      "metadata": {
        "id": "view-in-github",
        "colab_type": "text"
      },
      "source": [
        "<a href=\"https://colab.research.google.com/github/saltysallysmine/MIPT-CV-Homeworks/blob/main/CV_HW_1.ipynb\" target=\"_parent\"><img src=\"https://colab.research.google.com/assets/colab-badge.svg\" alt=\"Open In Colab\"/></a>"
      ]
    },
    {
      "cell_type": "markdown",
      "source": [
        "# Computer Vision. Homework 1. Тренировочный цикл и linear probe на ViT-Tiny\n",
        "\n",
        "Датасет: CIFAR-100 (из torchvision)"
      ],
      "metadata": {
        "id": "54iRxenyfD9i"
      }
    },
    {
      "cell_type": "markdown",
      "source": [
        "## CNN"
      ],
      "metadata": {
        "id": "-92aekGD59FU"
      }
    },
    {
      "cell_type": "code",
      "execution_count": 255,
      "metadata": {
        "id": "lIYdn1woOS1n"
      },
      "outputs": [],
      "source": [
        "import torch\n",
        "import torch.nn as nn\n",
        "import torch.optim as optim\n",
        "from torchvision import datasets, transforms\n",
        "from torch.utils.data import DataLoader, Subset, random_split\n",
        "from torch.utils.tensorboard import SummaryWriter\n",
        "import numpy as np\n",
        "import random"
      ]
    },
    {
      "cell_type": "code",
      "source": [
        "# SEEDS #\n",
        "seed = 124\n",
        "torch.manual_seed(seed)\n",
        "np.random.seed(seed)\n",
        "random.seed(seed)\n",
        "torch.backends.cudnn.deterministic = True\n",
        "torch.backends.cudnn.benchmark = False"
      ],
      "metadata": {
        "id": "Nqh3dh6BZIn8"
      },
      "execution_count": 256,
      "outputs": []
    },
    {
      "cell_type": "code",
      "source": [
        "# CONSTANTS #\n",
        "\n",
        "CIFAR_MEAN = (0.5071, 0.4867, 0.4408)\n",
        "# CIFAR_STD = (0.2675, 0.2565, 0.2761)\n",
        "CIFAR_STD = (0.2470, 0.2435, 0.2616)\n",
        "\n",
        "CLASS_CNT = 5\n",
        "\n",
        "LR = 1e-3 * 5\n",
        "BATCH_SIZE = 64"
      ],
      "metadata": {
        "id": "JXvV7ofdevbv"
      },
      "execution_count": 257,
      "outputs": []
    },
    {
      "cell_type": "code",
      "source": [
        "# 5 классов выбора\n",
        "selected_classes = list(range(CLASS_CNT))\n",
        "\n",
        "# Трансформации с аугментациями\n",
        "train_transform = transforms.Compose([\n",
        "    transforms.RandomResizedCrop(32),\n",
        "    transforms.RandomHorizontalFlip(),\n",
        "    transforms.ToTensor(),\n",
        "    transforms.Normalize(CIFAR_MEAN, CIFAR_STD),\n",
        "])\n",
        "val_transform = transforms.Compose([\n",
        "    transforms.ToTensor(),\n",
        "    transforms.Normalize(CIFAR_MEAN, CIFAR_STD),\n",
        "])"
      ],
      "metadata": {
        "id": "_jL9QVeMblWG"
      },
      "execution_count": 258,
      "outputs": []
    },
    {
      "cell_type": "code",
      "source": [
        "# DATASET #\n",
        "\n",
        "full_train = datasets.CIFAR100(root='./data', train=True, download=True, transform=train_transform)\n",
        "\n",
        "# Фильтрация по выбранным классам\n",
        "indices = [i for i, label in enumerate(full_train.targets) if label in selected_classes]\n",
        "subset = Subset(full_train, indices)\n",
        "\n",
        "train_size = int(0.8 * len(subset))\n",
        "val_size = len(subset) - train_size\n",
        "train_subset, val_subset = random_split(subset, [train_size, val_size])\n",
        "\n",
        "val_subset.dataset.transform = val_transform\n",
        "\n",
        "# Даталоадеры\n",
        "train_loader = DataLoader(train_subset, batch_size=BATCH_SIZE, shuffle=True, num_workers=2)\n",
        "val_loader = DataLoader(val_subset, batch_size=BATCH_SIZE, shuffle=False, num_workers=2)"
      ],
      "metadata": {
        "id": "NkpgHh6KcaDA"
      },
      "execution_count": 259,
      "outputs": []
    },
    {
      "cell_type": "code",
      "source": [
        "print(train_size, val_size)"
      ],
      "metadata": {
        "colab": {
          "base_uri": "https://localhost:8080/"
        },
        "id": "5g1ACetHjmxS",
        "outputId": "32c2d982-1b9e-46bd-d8b9-ed4f2d2fdce1"
      },
      "execution_count": 260,
      "outputs": [
        {
          "output_type": "stream",
          "name": "stdout",
          "text": [
            "2000 500\n"
          ]
        }
      ]
    },
    {
      "cell_type": "code",
      "source": [],
      "metadata": {
        "id": "aQjVWyZ_3a2B"
      },
      "execution_count": 260,
      "outputs": []
    },
    {
      "cell_type": "code",
      "source": [
        "class SimpleCNN(nn.Module):\n",
        "    def __init__(self, num_classes=5):\n",
        "        super().__init__()\n",
        "        self.features = nn.Sequential(\n",
        "            nn.Conv2d(3, 32, kernel_size=3, padding=1),  # 32x32x32\n",
        "            nn.LeakyReLU(),\n",
        "            nn.MaxPool2d(2),                             # 32x16x16\n",
        "            nn.Conv2d(32, 64, kernel_size=3, padding=1), # 64x16x16\n",
        "            nn.LeakyReLU(),\n",
        "            nn.MaxPool2d(2),                             # 64x8x8\n",
        "            nn.Conv2d(64, 128, kernel_size=3, padding=1),# 128x8x8\n",
        "            nn.LeakyReLU(),\n",
        "            nn.MaxPool2d(2),                             # 128x4x4\n",
        "        )\n",
        "        self.classifier = nn.Sequential(\n",
        "            nn.Flatten(),\n",
        "            nn.Linear(128*4*4, 256),\n",
        "            nn.LeakyReLU(),\n",
        "            nn.Linear(256, num_classes),\n",
        "        )\n",
        "\n",
        "    def forward(self, x):\n",
        "        x = self.features(x)\n",
        "        x = self.classifier(x)\n",
        "        return x"
      ],
      "metadata": {
        "id": "6GxVk8Pfcd1j"
      },
      "execution_count": 278,
      "outputs": []
    },
    {
      "cell_type": "code",
      "source": [
        "device = torch.device('cuda' if torch.cuda.is_available() else 'cpu')"
      ],
      "metadata": {
        "id": "q9jzfH54cj-r"
      },
      "execution_count": 279,
      "outputs": []
    },
    {
      "cell_type": "code",
      "source": [
        "def validate(model, epoch):\n",
        "    criterion = nn.CrossEntropyLoss()\n",
        "    if isinstance(model, SimpleCNN):\n",
        "        params = model.parameters()\n",
        "    else:\n",
        "        params = model.head.parameters()\n",
        "    optimizer = optim.Adam(params, lr=LR)\n",
        "\n",
        "    model.eval()\n",
        "    running_loss = 0\n",
        "    correct = 0\n",
        "    total = 0\n",
        "    with torch.no_grad():\n",
        "        for images, labels in val_loader:\n",
        "            images, labels = images.to(device), labels.to(device)\n",
        "            outputs = model(images)\n",
        "            loss = criterion(outputs, labels)\n",
        "            running_loss += loss.item()\n",
        "            _, predicted = outputs.max(1)\n",
        "            total += labels.size(0)\n",
        "            correct += predicted.eq(labels).sum().item()\n",
        "\n",
        "    acc = correct / total * 100.0\n",
        "    avg_loss = running_loss / len(val_loader)\n",
        "    print(f\"Epoch {epoch}, Val loss: {avg_loss:.4f}, Accuracy: {acc:.2f}%\")\n",
        "\n",
        "    writer.add_scalar('Val/Loss', avg_loss, epoch)\n",
        "    writer.add_scalar('Val/Accuracy', acc, epoch)"
      ],
      "metadata": {
        "id": "-2LVS9EVn_-K"
      },
      "execution_count": 280,
      "outputs": []
    },
    {
      "cell_type": "code",
      "source": [
        "# TensorBoard логгер\n",
        "writer = SummaryWriter('runs/cifar100_simple_cnn')\n",
        "\n",
        "def sanity_check(model):\n",
        "    criterion = nn.CrossEntropyLoss()\n",
        "    if isinstance(model, SimpleCNN):\n",
        "        params = model.parameters()\n",
        "    else:\n",
        "        params = model.head.parameters()\n",
        "    optimizer = optim.Adam(params, lr=LR)\n",
        "\n",
        "    model.train()\n",
        "    correct = 0\n",
        "    total = 0\n",
        "    for i, (images, labels) in enumerate(train_loader):\n",
        "        if i > 20:\n",
        "            break\n",
        "        images, labels = images.to(device), labels.to(device)\n",
        "        optimizer.zero_grad()\n",
        "        outputs = model(images)\n",
        "        loss = criterion(outputs, labels)\n",
        "        loss.backward()\n",
        "        optimizer.step()\n",
        "\n",
        "        _, predicted = outputs.max(1)\n",
        "        total += labels.size(0)\n",
        "        correct += predicted.eq(labels).sum().item()\n",
        "        print(f'Sanity check batch {i}, loss: {loss.item():.4f}, acc: {correct / total * 100.0:.4f}')\n",
        "        # validate(i)"
      ],
      "metadata": {
        "id": "541a1ZBidnmT"
      },
      "execution_count": 281,
      "outputs": []
    },
    {
      "cell_type": "code",
      "source": [
        "model = SimpleCNN(num_classes=len(selected_classes)).to(device)\n",
        "sanity_check(model)\n",
        "validate(model, len(train_loader))"
      ],
      "metadata": {
        "colab": {
          "base_uri": "https://localhost:8080/"
        },
        "id": "y1npzqF6zGwk",
        "outputId": "144fadaa-11a2-4832-d3f0-b0a25930ea6f"
      },
      "execution_count": 282,
      "outputs": [
        {
          "output_type": "stream",
          "name": "stdout",
          "text": [
            "Sanity check batch 0, loss: 1.6192, acc: 18.7500\n",
            "Sanity check batch 1, loss: 2.0576, acc: 20.3125\n",
            "Sanity check batch 2, loss: 1.5976, acc: 25.5208\n",
            "Sanity check batch 3, loss: 1.6082, acc: 25.3906\n",
            "Sanity check batch 4, loss: 1.5891, acc: 27.1875\n",
            "Sanity check batch 5, loss: 1.5302, acc: 28.6458\n",
            "Sanity check batch 6, loss: 1.4569, acc: 29.4643\n",
            "Sanity check batch 7, loss: 1.4550, acc: 29.4922\n",
            "Sanity check batch 8, loss: 1.3839, acc: 29.1667\n",
            "Sanity check batch 9, loss: 1.2378, acc: 30.0000\n",
            "Sanity check batch 10, loss: 1.4472, acc: 31.1080\n",
            "Sanity check batch 11, loss: 1.2742, acc: 32.1615\n",
            "Sanity check batch 12, loss: 1.3869, acc: 32.3317\n",
            "Sanity check batch 13, loss: 1.2760, acc: 33.0357\n",
            "Sanity check batch 14, loss: 1.1104, acc: 34.2708\n",
            "Sanity check batch 15, loss: 1.2043, acc: 35.2539\n",
            "Sanity check batch 16, loss: 1.5215, acc: 35.1103\n",
            "Sanity check batch 17, loss: 1.1807, acc: 35.4167\n",
            "Sanity check batch 18, loss: 1.1410, acc: 36.3487\n",
            "Sanity check batch 19, loss: 1.4322, acc: 36.9531\n",
            "Sanity check batch 20, loss: 1.4555, acc: 36.8304\n",
            "Epoch 32, Val loss: 1.2294, Accuracy: 46.20%\n"
          ]
        }
      ]
    },
    {
      "cell_type": "code",
      "source": [
        "def train_epoch(model, epoch):\n",
        "    criterion = nn.CrossEntropyLoss()\n",
        "    if isinstance(model, SimpleCNN):\n",
        "        params = model.parameters()\n",
        "    else:\n",
        "        params = model.head.parameters()\n",
        "    optimizer = optim.Adam(params, lr=LR)\n",
        "\n",
        "    model.train()\n",
        "    running_loss = 0\n",
        "    correct = 0\n",
        "    total = 0\n",
        "    for batch_idx, (images, labels) in enumerate(train_loader):\n",
        "        images, labels = images.to(device), labels.to(device)\n",
        "        optimizer.zero_grad()\n",
        "        outputs = model(images)\n",
        "        loss = criterion(outputs, labels)\n",
        "        loss.backward()\n",
        "        optimizer.step()\n",
        "\n",
        "        running_loss += loss.item()\n",
        "        _, predicted = outputs.max(1)\n",
        "        total += labels.size(0)\n",
        "        correct += predicted.eq(labels).sum().item()\n",
        "\n",
        "        # Логируем гистограммы весов и градиентов для первых слоев\n",
        "        for name, param in model.named_parameters():\n",
        "            writer.add_histogram(name, param, epoch)\n",
        "            if param.grad is not None:\n",
        "                writer.add_histogram(name + '/grad', param.grad, epoch)\n",
        "\n",
        "    acc = correct / total * 100.0\n",
        "    avg_loss = running_loss / len(train_loader)\n",
        "    print(f\"Epoch {epoch}, Train loss: {avg_loss:.4f}, Accuracy: {acc:.2f}%\")\n",
        "\n",
        "    writer.add_scalar('Train/Loss', avg_loss, epoch)\n",
        "    writer.add_scalar('Train/Accuracy', acc, epoch)\n",
        "    writer.add_scalar('Train/Learning_Rate', optimizer.param_groups[0]['lr'], epoch)"
      ],
      "metadata": {
        "id": "qriaytMtdyWn"
      },
      "execution_count": 283,
      "outputs": []
    },
    {
      "cell_type": "code",
      "source": [],
      "metadata": {
        "id": "8PX8dkZHeBvW"
      },
      "execution_count": 283,
      "outputs": []
    },
    {
      "cell_type": "code",
      "source": [
        "# TRAINING CNN #\n",
        "\n",
        "model = SimpleCNN(num_classes=len(selected_classes)).to(device)\n",
        "\n",
        "num_epochs = 20\n",
        "for epoch in range(1, num_epochs + 1):\n",
        "    train_epoch(model, epoch)\n",
        "    validate(model, epoch)\n",
        "\n",
        "writer.close()"
      ],
      "metadata": {
        "colab": {
          "base_uri": "https://localhost:8080/"
        },
        "id": "2mbt__LieEzu",
        "outputId": "2f305bd2-0c8c-450e-c693-8ba90784d33f"
      },
      "execution_count": 284,
      "outputs": [
        {
          "output_type": "stream",
          "name": "stdout",
          "text": [
            "Epoch 1, Train loss: 1.4767, Accuracy: 37.10%\n",
            "Epoch 1, Val loss: 1.3889, Accuracy: 42.40%\n",
            "Epoch 2, Train loss: 1.2240, Accuracy: 47.45%\n",
            "Epoch 2, Val loss: 1.1617, Accuracy: 49.80%\n",
            "Epoch 3, Train loss: 1.1341, Accuracy: 53.90%\n",
            "Epoch 3, Val loss: 1.0105, Accuracy: 57.40%\n",
            "Epoch 4, Train loss: 1.1497, Accuracy: 52.50%\n",
            "Epoch 4, Val loss: 1.1214, Accuracy: 54.00%\n",
            "Epoch 5, Train loss: 1.1493, Accuracy: 54.35%\n",
            "Epoch 5, Val loss: 1.0666, Accuracy: 57.20%\n",
            "Epoch 6, Train loss: 1.0134, Accuracy: 60.15%\n",
            "Epoch 6, Val loss: 0.9873, Accuracy: 64.00%\n",
            "Epoch 7, Train loss: 0.9986, Accuracy: 58.80%\n",
            "Epoch 7, Val loss: 0.9913, Accuracy: 60.40%\n",
            "Epoch 8, Train loss: 0.9501, Accuracy: 62.10%\n",
            "Epoch 8, Val loss: 0.9628, Accuracy: 61.20%\n",
            "Epoch 9, Train loss: 1.0051, Accuracy: 60.90%\n",
            "Epoch 9, Val loss: 0.9555, Accuracy: 62.80%\n",
            "Epoch 10, Train loss: 0.9497, Accuracy: 61.00%\n",
            "Epoch 10, Val loss: 0.9306, Accuracy: 64.80%\n",
            "Epoch 11, Train loss: 0.9958, Accuracy: 61.35%\n",
            "Epoch 11, Val loss: 1.0324, Accuracy: 60.60%\n",
            "Epoch 12, Train loss: 0.9873, Accuracy: 63.40%\n",
            "Epoch 12, Val loss: 0.9703, Accuracy: 62.40%\n",
            "Epoch 13, Train loss: 1.1168, Accuracy: 59.25%\n",
            "Epoch 13, Val loss: 0.9675, Accuracy: 62.60%\n",
            "Epoch 14, Train loss: 0.9990, Accuracy: 60.30%\n",
            "Epoch 14, Val loss: 0.9385, Accuracy: 62.00%\n",
            "Epoch 15, Train loss: 0.9080, Accuracy: 64.45%\n",
            "Epoch 15, Val loss: 0.9441, Accuracy: 60.40%\n",
            "Epoch 16, Train loss: 0.8847, Accuracy: 64.40%\n",
            "Epoch 16, Val loss: 0.9510, Accuracy: 61.80%\n",
            "Epoch 17, Train loss: 0.9727, Accuracy: 61.85%\n",
            "Epoch 17, Val loss: 0.8853, Accuracy: 64.00%\n",
            "Epoch 18, Train loss: 0.9394, Accuracy: 63.70%\n",
            "Epoch 18, Val loss: 0.9348, Accuracy: 61.60%\n",
            "Epoch 19, Train loss: 0.8904, Accuracy: 65.05%\n",
            "Epoch 19, Val loss: 0.8793, Accuracy: 66.00%\n",
            "Epoch 20, Train loss: 0.9123, Accuracy: 65.05%\n",
            "Epoch 20, Val loss: 0.8480, Accuracy: 66.80%\n"
          ]
        }
      ]
    },
    {
      "cell_type": "code",
      "source": [],
      "metadata": {
        "id": "nIo4NRmhmxVC"
      },
      "execution_count": 284,
      "outputs": []
    },
    {
      "cell_type": "markdown",
      "source": [
        "## ViT-Tiny"
      ],
      "metadata": {
        "id": "YJ57ZOUP6NMw"
      }
    },
    {
      "cell_type": "code",
      "source": [
        "import timm\n",
        "import torch.nn as nn\n",
        "import torch.profiler"
      ],
      "metadata": {
        "id": "V5hGq6_B6Phk"
      },
      "execution_count": 285,
      "outputs": []
    },
    {
      "cell_type": "code",
      "source": [
        "model_vit = timm.create_model('vit_tiny_patch16_224', pretrained=True)\n",
        "\n",
        "for param in model_vit.parameters():\n",
        "    param.requires_grad = False\n",
        "\n",
        "in_features = model_vit.head.in_features\n",
        "model_vit.head = nn.Linear(in_features, CLASS_CNT)\n",
        "\n",
        "params_to_optimize = model_vit.head.parameters()"
      ],
      "metadata": {
        "colab": {
          "base_uri": "https://localhost:8080/",
          "height": 153,
          "referenced_widgets": [
            "63ad2f2f5f42406889f2e47b8974c744",
            "839e34dbd7154e49bd3af0e66fd949f7",
            "ef52d68687b04071a052406d50fc1eda",
            "f06ed18021c744708d24ba8fd0a7622a",
            "901d17df22c94407bdf012ab278d3fd2",
            "4a7030d5cdd342b0af298a77b0a5e021",
            "a8bfd9b678324d3897d41beb468dbd95",
            "e8611dfd274f4b39b35457f590d6cc00",
            "fed054cc0fcc416f800e37fcc12e2024",
            "38313a0666a24006a321c896c6b4239d",
            "29ee8b95124440cebfdaa5bd016e7774"
          ]
        },
        "id": "gNvc6IQE7Dt1",
        "outputId": "ca6b2bf3-0b74-46b1-9f5e-240c27fc81c4"
      },
      "execution_count": 286,
      "outputs": [
        {
          "output_type": "stream",
          "name": "stderr",
          "text": [
            "/usr/local/lib/python3.12/dist-packages/huggingface_hub/utils/_auth.py:94: UserWarning: \n",
            "The secret `HF_TOKEN` does not exist in your Colab secrets.\n",
            "To authenticate with the Hugging Face Hub, create a token in your settings tab (https://huggingface.co/settings/tokens), set it as secret in your Google Colab and restart your session.\n",
            "You will be able to reuse this secret in all of your notebooks.\n",
            "Please note that authentication is recommended but still optional to access public models or datasets.\n",
            "  warnings.warn(\n"
          ]
        },
        {
          "output_type": "display_data",
          "data": {
            "text/plain": [
              "model.safetensors:   0%|          | 0.00/22.9M [00:00<?, ?B/s]"
            ],
            "application/vnd.jupyter.widget-view+json": {
              "version_major": 2,
              "version_minor": 0,
              "model_id": "63ad2f2f5f42406889f2e47b8974c744"
            }
          },
          "metadata": {}
        }
      ]
    },
    {
      "cell_type": "code",
      "source": [
        "def train_with_profiling(model, dataloader, criterion, optimizer, device, steps=50):\n",
        "    model.train()\n",
        "    profiler = torch.profiler.profile(\n",
        "        schedule=torch.profiler.schedule(wait=0, warmup=0, active=steps, repeat=0),\n",
        "        on_trace_ready=torch.profiler.tensorboard_trace_handler('./log/profiler'),\n",
        "        record_shapes=True,\n",
        "        with_stack=True\n",
        "    )\n",
        "\n",
        "    profiler.start()\n",
        "    for step, (inputs, labels) in enumerate(dataloader):\n",
        "        if step >= steps:\n",
        "            break\n",
        "        inputs, labels = inputs.to(device), labels.to(device)\n",
        "        optimizer.zero_grad()\n",
        "        outputs = model(inputs)\n",
        "        loss = criterion(outputs, labels)\n",
        "        loss.backward()\n",
        "        optimizer.step()\n",
        "        profiler.step()\n",
        "    profiler.stop()\n"
      ],
      "metadata": {
        "id": "EKQ9cmvk7aVX"
      },
      "execution_count": 241,
      "outputs": []
    },
    {
      "cell_type": "markdown",
      "source": [
        "## Сравнение моделей"
      ],
      "metadata": {
        "id": "qPs9Cn5C9u16"
      }
    },
    {
      "cell_type": "code",
      "source": [],
      "metadata": {
        "id": "vtlq6jPm9uNL"
      },
      "execution_count": null,
      "outputs": []
    }
  ],
  "metadata": {
    "colab": {
      "provenance": [],
      "include_colab_link": true
    },
    "kernelspec": {
      "display_name": "Python 3",
      "name": "python3"
    },
    "widgets": {
      "application/vnd.jupyter.widget-state+json": {
        "63ad2f2f5f42406889f2e47b8974c744": {
          "model_module": "@jupyter-widgets/controls",
          "model_name": "HBoxModel",
          "model_module_version": "1.5.0",
          "state": {
            "_dom_classes": [],
            "_model_module": "@jupyter-widgets/controls",
            "_model_module_version": "1.5.0",
            "_model_name": "HBoxModel",
            "_view_count": null,
            "_view_module": "@jupyter-widgets/controls",
            "_view_module_version": "1.5.0",
            "_view_name": "HBoxView",
            "box_style": "",
            "children": [
              "IPY_MODEL_839e34dbd7154e49bd3af0e66fd949f7",
              "IPY_MODEL_ef52d68687b04071a052406d50fc1eda",
              "IPY_MODEL_f06ed18021c744708d24ba8fd0a7622a"
            ],
            "layout": "IPY_MODEL_901d17df22c94407bdf012ab278d3fd2"
          }
        },
        "839e34dbd7154e49bd3af0e66fd949f7": {
          "model_module": "@jupyter-widgets/controls",
          "model_name": "HTMLModel",
          "model_module_version": "1.5.0",
          "state": {
            "_dom_classes": [],
            "_model_module": "@jupyter-widgets/controls",
            "_model_module_version": "1.5.0",
            "_model_name": "HTMLModel",
            "_view_count": null,
            "_view_module": "@jupyter-widgets/controls",
            "_view_module_version": "1.5.0",
            "_view_name": "HTMLView",
            "description": "",
            "description_tooltip": null,
            "layout": "IPY_MODEL_4a7030d5cdd342b0af298a77b0a5e021",
            "placeholder": "​",
            "style": "IPY_MODEL_a8bfd9b678324d3897d41beb468dbd95",
            "value": "model.safetensors: 100%"
          }
        },
        "ef52d68687b04071a052406d50fc1eda": {
          "model_module": "@jupyter-widgets/controls",
          "model_name": "FloatProgressModel",
          "model_module_version": "1.5.0",
          "state": {
            "_dom_classes": [],
            "_model_module": "@jupyter-widgets/controls",
            "_model_module_version": "1.5.0",
            "_model_name": "FloatProgressModel",
            "_view_count": null,
            "_view_module": "@jupyter-widgets/controls",
            "_view_module_version": "1.5.0",
            "_view_name": "ProgressView",
            "bar_style": "success",
            "description": "",
            "description_tooltip": null,
            "layout": "IPY_MODEL_e8611dfd274f4b39b35457f590d6cc00",
            "max": 22883348,
            "min": 0,
            "orientation": "horizontal",
            "style": "IPY_MODEL_fed054cc0fcc416f800e37fcc12e2024",
            "value": 22883348
          }
        },
        "f06ed18021c744708d24ba8fd0a7622a": {
          "model_module": "@jupyter-widgets/controls",
          "model_name": "HTMLModel",
          "model_module_version": "1.5.0",
          "state": {
            "_dom_classes": [],
            "_model_module": "@jupyter-widgets/controls",
            "_model_module_version": "1.5.0",
            "_model_name": "HTMLModel",
            "_view_count": null,
            "_view_module": "@jupyter-widgets/controls",
            "_view_module_version": "1.5.0",
            "_view_name": "HTMLView",
            "description": "",
            "description_tooltip": null,
            "layout": "IPY_MODEL_38313a0666a24006a321c896c6b4239d",
            "placeholder": "​",
            "style": "IPY_MODEL_29ee8b95124440cebfdaa5bd016e7774",
            "value": " 22.9M/22.9M [00:00&lt;00:00, 54.7MB/s]"
          }
        },
        "901d17df22c94407bdf012ab278d3fd2": {
          "model_module": "@jupyter-widgets/base",
          "model_name": "LayoutModel",
          "model_module_version": "1.2.0",
          "state": {
            "_model_module": "@jupyter-widgets/base",
            "_model_module_version": "1.2.0",
            "_model_name": "LayoutModel",
            "_view_count": null,
            "_view_module": "@jupyter-widgets/base",
            "_view_module_version": "1.2.0",
            "_view_name": "LayoutView",
            "align_content": null,
            "align_items": null,
            "align_self": null,
            "border": null,
            "bottom": null,
            "display": null,
            "flex": null,
            "flex_flow": null,
            "grid_area": null,
            "grid_auto_columns": null,
            "grid_auto_flow": null,
            "grid_auto_rows": null,
            "grid_column": null,
            "grid_gap": null,
            "grid_row": null,
            "grid_template_areas": null,
            "grid_template_columns": null,
            "grid_template_rows": null,
            "height": null,
            "justify_content": null,
            "justify_items": null,
            "left": null,
            "margin": null,
            "max_height": null,
            "max_width": null,
            "min_height": null,
            "min_width": null,
            "object_fit": null,
            "object_position": null,
            "order": null,
            "overflow": null,
            "overflow_x": null,
            "overflow_y": null,
            "padding": null,
            "right": null,
            "top": null,
            "visibility": null,
            "width": null
          }
        },
        "4a7030d5cdd342b0af298a77b0a5e021": {
          "model_module": "@jupyter-widgets/base",
          "model_name": "LayoutModel",
          "model_module_version": "1.2.0",
          "state": {
            "_model_module": "@jupyter-widgets/base",
            "_model_module_version": "1.2.0",
            "_model_name": "LayoutModel",
            "_view_count": null,
            "_view_module": "@jupyter-widgets/base",
            "_view_module_version": "1.2.0",
            "_view_name": "LayoutView",
            "align_content": null,
            "align_items": null,
            "align_self": null,
            "border": null,
            "bottom": null,
            "display": null,
            "flex": null,
            "flex_flow": null,
            "grid_area": null,
            "grid_auto_columns": null,
            "grid_auto_flow": null,
            "grid_auto_rows": null,
            "grid_column": null,
            "grid_gap": null,
            "grid_row": null,
            "grid_template_areas": null,
            "grid_template_columns": null,
            "grid_template_rows": null,
            "height": null,
            "justify_content": null,
            "justify_items": null,
            "left": null,
            "margin": null,
            "max_height": null,
            "max_width": null,
            "min_height": null,
            "min_width": null,
            "object_fit": null,
            "object_position": null,
            "order": null,
            "overflow": null,
            "overflow_x": null,
            "overflow_y": null,
            "padding": null,
            "right": null,
            "top": null,
            "visibility": null,
            "width": null
          }
        },
        "a8bfd9b678324d3897d41beb468dbd95": {
          "model_module": "@jupyter-widgets/controls",
          "model_name": "DescriptionStyleModel",
          "model_module_version": "1.5.0",
          "state": {
            "_model_module": "@jupyter-widgets/controls",
            "_model_module_version": "1.5.0",
            "_model_name": "DescriptionStyleModel",
            "_view_count": null,
            "_view_module": "@jupyter-widgets/base",
            "_view_module_version": "1.2.0",
            "_view_name": "StyleView",
            "description_width": ""
          }
        },
        "e8611dfd274f4b39b35457f590d6cc00": {
          "model_module": "@jupyter-widgets/base",
          "model_name": "LayoutModel",
          "model_module_version": "1.2.0",
          "state": {
            "_model_module": "@jupyter-widgets/base",
            "_model_module_version": "1.2.0",
            "_model_name": "LayoutModel",
            "_view_count": null,
            "_view_module": "@jupyter-widgets/base",
            "_view_module_version": "1.2.0",
            "_view_name": "LayoutView",
            "align_content": null,
            "align_items": null,
            "align_self": null,
            "border": null,
            "bottom": null,
            "display": null,
            "flex": null,
            "flex_flow": null,
            "grid_area": null,
            "grid_auto_columns": null,
            "grid_auto_flow": null,
            "grid_auto_rows": null,
            "grid_column": null,
            "grid_gap": null,
            "grid_row": null,
            "grid_template_areas": null,
            "grid_template_columns": null,
            "grid_template_rows": null,
            "height": null,
            "justify_content": null,
            "justify_items": null,
            "left": null,
            "margin": null,
            "max_height": null,
            "max_width": null,
            "min_height": null,
            "min_width": null,
            "object_fit": null,
            "object_position": null,
            "order": null,
            "overflow": null,
            "overflow_x": null,
            "overflow_y": null,
            "padding": null,
            "right": null,
            "top": null,
            "visibility": null,
            "width": null
          }
        },
        "fed054cc0fcc416f800e37fcc12e2024": {
          "model_module": "@jupyter-widgets/controls",
          "model_name": "ProgressStyleModel",
          "model_module_version": "1.5.0",
          "state": {
            "_model_module": "@jupyter-widgets/controls",
            "_model_module_version": "1.5.0",
            "_model_name": "ProgressStyleModel",
            "_view_count": null,
            "_view_module": "@jupyter-widgets/base",
            "_view_module_version": "1.2.0",
            "_view_name": "StyleView",
            "bar_color": null,
            "description_width": ""
          }
        },
        "38313a0666a24006a321c896c6b4239d": {
          "model_module": "@jupyter-widgets/base",
          "model_name": "LayoutModel",
          "model_module_version": "1.2.0",
          "state": {
            "_model_module": "@jupyter-widgets/base",
            "_model_module_version": "1.2.0",
            "_model_name": "LayoutModel",
            "_view_count": null,
            "_view_module": "@jupyter-widgets/base",
            "_view_module_version": "1.2.0",
            "_view_name": "LayoutView",
            "align_content": null,
            "align_items": null,
            "align_self": null,
            "border": null,
            "bottom": null,
            "display": null,
            "flex": null,
            "flex_flow": null,
            "grid_area": null,
            "grid_auto_columns": null,
            "grid_auto_flow": null,
            "grid_auto_rows": null,
            "grid_column": null,
            "grid_gap": null,
            "grid_row": null,
            "grid_template_areas": null,
            "grid_template_columns": null,
            "grid_template_rows": null,
            "height": null,
            "justify_content": null,
            "justify_items": null,
            "left": null,
            "margin": null,
            "max_height": null,
            "max_width": null,
            "min_height": null,
            "min_width": null,
            "object_fit": null,
            "object_position": null,
            "order": null,
            "overflow": null,
            "overflow_x": null,
            "overflow_y": null,
            "padding": null,
            "right": null,
            "top": null,
            "visibility": null,
            "width": null
          }
        },
        "29ee8b95124440cebfdaa5bd016e7774": {
          "model_module": "@jupyter-widgets/controls",
          "model_name": "DescriptionStyleModel",
          "model_module_version": "1.5.0",
          "state": {
            "_model_module": "@jupyter-widgets/controls",
            "_model_module_version": "1.5.0",
            "_model_name": "DescriptionStyleModel",
            "_view_count": null,
            "_view_module": "@jupyter-widgets/base",
            "_view_module_version": "1.2.0",
            "_view_name": "StyleView",
            "description_width": ""
          }
        }
      }
    }
  },
  "nbformat": 4,
  "nbformat_minor": 0
}