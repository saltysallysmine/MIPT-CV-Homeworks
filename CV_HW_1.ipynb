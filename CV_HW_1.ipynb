{
  "cells": [
    {
      "cell_type": "markdown",
      "metadata": {
        "id": "view-in-github",
        "colab_type": "text"
      },
      "source": [
        "<a href=\"https://colab.research.google.com/github/saltysallysmine/MIPT-CV-Homeworks/blob/main/CV_HW_1.ipynb\" target=\"_parent\"><img src=\"https://colab.research.google.com/assets/colab-badge.svg\" alt=\"Open In Colab\"/></a>"
      ]
    },
    {
      "cell_type": "markdown",
      "source": [
        "# Computer Vision. Homework 1. Тренировочный цикл и linear probe на ViT-Tiny\n",
        "\n",
        "Датасет: CIFAR-100 (из torchvision)"
      ],
      "metadata": {
        "id": "54iRxenyfD9i"
      }
    },
    {
      "cell_type": "markdown",
      "source": [
        "## CNN"
      ],
      "metadata": {
        "id": "-92aekGD59FU"
      }
    },
    {
      "cell_type": "code",
      "execution_count": 17,
      "metadata": {
        "id": "lIYdn1woOS1n"
      },
      "outputs": [],
      "source": [
        "import torch\n",
        "import torch.nn as nn\n",
        "import torch.optim as optim\n",
        "from torchvision import datasets, transforms\n",
        "from torch.utils.data import DataLoader, Subset, random_split\n",
        "from torch.utils.tensorboard import SummaryWriter\n",
        "import numpy as np\n",
        "import random"
      ]
    },
    {
      "cell_type": "code",
      "source": [
        "# SEEDS #\n",
        "seed = 124\n",
        "torch.manual_seed(seed)\n",
        "np.random.seed(seed)\n",
        "random.seed(seed)\n",
        "torch.backends.cudnn.deterministic = True\n",
        "torch.backends.cudnn.benchmark = False"
      ],
      "metadata": {
        "id": "Nqh3dh6BZIn8"
      },
      "execution_count": 18,
      "outputs": []
    },
    {
      "cell_type": "code",
      "source": [
        "# CONSTANTS #\n",
        "\n",
        "CIFAR_MEAN = (0.5071, 0.4867, 0.4408)\n",
        "# CIFAR_STD = (0.2675, 0.2565, 0.2761)\n",
        "CIFAR_STD = (0.2470, 0.2435, 0.2616)\n",
        "\n",
        "CLASS_CNT = 5\n",
        "\n",
        "LR = 1e-3 * 5\n",
        "BATCH_SIZE = 64"
      ],
      "metadata": {
        "id": "JXvV7ofdevbv"
      },
      "execution_count": 19,
      "outputs": []
    },
    {
      "cell_type": "code",
      "source": [
        "# 5 классов выбора\n",
        "selected_classes = list(range(CLASS_CNT))\n",
        "\n",
        "# Трансформации с аугментациями\n",
        "train_transform = transforms.Compose([\n",
        "    transforms.RandomResizedCrop(32),\n",
        "    transforms.RandomHorizontalFlip(),\n",
        "    transforms.ToTensor(),\n",
        "    transforms.Normalize(CIFAR_MEAN, CIFAR_STD),\n",
        "])\n",
        "val_transform = transforms.Compose([\n",
        "    transforms.ToTensor(),\n",
        "    transforms.Normalize(CIFAR_MEAN, CIFAR_STD),\n",
        "])"
      ],
      "metadata": {
        "id": "_jL9QVeMblWG"
      },
      "execution_count": 20,
      "outputs": []
    },
    {
      "cell_type": "code",
      "source": [
        "# DATASET #\n",
        "\n",
        "full_train = datasets.CIFAR100(root='./data', train=True, download=True, transform=train_transform)\n",
        "\n",
        "# Фильтрация по выбранным классам\n",
        "indices = [i for i, label in enumerate(full_train.targets) if label in selected_classes]\n",
        "subset = Subset(full_train, indices)\n",
        "\n",
        "train_size = int(0.8 * len(subset))\n",
        "val_size = len(subset) - train_size\n",
        "train_subset, val_subset = random_split(subset, [train_size, val_size])\n",
        "\n",
        "val_subset.dataset.transform = val_transform\n",
        "\n",
        "# Даталоадеры\n",
        "train_loader = DataLoader(train_subset, batch_size=BATCH_SIZE, shuffle=True, num_workers=2)\n",
        "val_loader = DataLoader(val_subset, batch_size=BATCH_SIZE, shuffle=False, num_workers=2)"
      ],
      "metadata": {
        "id": "NkpgHh6KcaDA"
      },
      "execution_count": 21,
      "outputs": []
    },
    {
      "cell_type": "code",
      "source": [
        "print(train_size, val_size)"
      ],
      "metadata": {
        "colab": {
          "base_uri": "https://localhost:8080/"
        },
        "id": "5g1ACetHjmxS",
        "outputId": "bf0990f6-a1bb-45be-8f03-980d0bdbd8eb"
      },
      "execution_count": 22,
      "outputs": [
        {
          "output_type": "stream",
          "name": "stdout",
          "text": [
            "2000 500\n"
          ]
        }
      ]
    },
    {
      "cell_type": "code",
      "source": [],
      "metadata": {
        "id": "aQjVWyZ_3a2B"
      },
      "execution_count": 22,
      "outputs": []
    },
    {
      "cell_type": "code",
      "source": [
        "class SimpleCNN(nn.Module):\n",
        "    def __init__(self, num_classes=5):\n",
        "        super().__init__()\n",
        "        self.features = nn.Sequential(\n",
        "            nn.Conv2d(3, 32, kernel_size=3, padding=1),  # 32x32x32\n",
        "            nn.LeakyReLU(),\n",
        "            nn.MaxPool2d(2),                             # 32x16x16\n",
        "            nn.Conv2d(32, 64, kernel_size=3, padding=1), # 64x16x16\n",
        "            nn.LeakyReLU(),\n",
        "            nn.MaxPool2d(2),                             # 64x8x8\n",
        "            nn.Conv2d(64, 128, kernel_size=3, padding=1),# 128x8x8\n",
        "            nn.LeakyReLU(),\n",
        "            nn.MaxPool2d(2),                             # 128x4x4\n",
        "        )\n",
        "        self.classifier = nn.Sequential(\n",
        "            nn.Flatten(),\n",
        "            nn.Linear(128*4*4, 256),\n",
        "            nn.LeakyReLU(),\n",
        "            nn.Linear(256, num_classes),\n",
        "        )\n",
        "\n",
        "    def forward(self, x):\n",
        "        x = self.features(x)\n",
        "        x = self.classifier(x)\n",
        "        return x"
      ],
      "metadata": {
        "id": "6GxVk8Pfcd1j"
      },
      "execution_count": 23,
      "outputs": []
    },
    {
      "cell_type": "code",
      "source": [
        "device = torch.device('cuda' if torch.cuda.is_available() else 'cpu')"
      ],
      "metadata": {
        "id": "q9jzfH54cj-r"
      },
      "execution_count": 24,
      "outputs": []
    },
    {
      "cell_type": "code",
      "source": [
        "def validate(model, epoch):\n",
        "    criterion = nn.CrossEntropyLoss()\n",
        "    if isinstance(model, SimpleCNN):\n",
        "        params = model.parameters()\n",
        "    else:\n",
        "        params = model.head.parameters()\n",
        "    optimizer = optim.Adam(params, lr=LR)\n",
        "\n",
        "    model.eval()\n",
        "    running_loss = 0\n",
        "    correct = 0\n",
        "    total = 0\n",
        "    with torch.no_grad():\n",
        "        for images, labels in val_loader:\n",
        "            images, labels = images.to(device), labels.to(device)\n",
        "            outputs = model(images)\n",
        "            loss = criterion(outputs, labels)\n",
        "            running_loss += loss.item()\n",
        "            _, predicted = outputs.max(1)\n",
        "            total += labels.size(0)\n",
        "            correct += predicted.eq(labels).sum().item()\n",
        "\n",
        "    acc = correct / total * 100.0\n",
        "    avg_loss = running_loss / len(val_loader)\n",
        "    print(f\"Epoch {epoch}, Val loss: {avg_loss:.4f}, Accuracy: {acc:.2f}%\")\n",
        "\n",
        "    writer.add_scalar('Val/Loss', avg_loss, epoch)\n",
        "    writer.add_scalar('Val/Accuracy', acc, epoch)"
      ],
      "metadata": {
        "id": "-2LVS9EVn_-K"
      },
      "execution_count": 25,
      "outputs": []
    },
    {
      "cell_type": "code",
      "source": [
        "# TensorBoard логгер\n",
        "writer = SummaryWriter('runs/cifar100_simple_cnn')\n",
        "\n",
        "def sanity_check(model):\n",
        "    criterion = nn.CrossEntropyLoss()\n",
        "    if isinstance(model, SimpleCNN):\n",
        "        params = model.parameters()\n",
        "    else:\n",
        "        params = model.head.parameters()\n",
        "    optimizer = optim.Adam(params, lr=LR)\n",
        "\n",
        "    model.train()\n",
        "    correct = 0\n",
        "    total = 0\n",
        "\n",
        "    n_batches = 2\n",
        "    batches = [el for i, el in enumerate(train_loader) if i < n_batches]\n",
        "\n",
        "    for i in range(20):\n",
        "        for _, (images, labels) in enumerate(batches):\n",
        "            images, labels = images.to(device), labels.to(device)\n",
        "            optimizer.zero_grad()\n",
        "            outputs = model(images)\n",
        "            loss = criterion(outputs, labels)\n",
        "            loss.backward()\n",
        "            optimizer.step()\n",
        "\n",
        "            _, predicted = outputs.max(1)\n",
        "            total += labels.size(0)\n",
        "            correct += predicted.eq(labels).sum().item()\n",
        "            print(f'Sanity check batch {i}, loss: {loss.item():.4f}, acc: {correct / total * 100.0:.4f}')\n",
        "            # validate(i)"
      ],
      "metadata": {
        "id": "541a1ZBidnmT"
      },
      "execution_count": 26,
      "outputs": []
    },
    {
      "cell_type": "code",
      "source": [
        "model = SimpleCNN(num_classes=len(selected_classes)).to(device)\n",
        "sanity_check(model)\n",
        "validate(model, len(train_loader))"
      ],
      "metadata": {
        "colab": {
          "base_uri": "https://localhost:8080/"
        },
        "id": "y1npzqF6zGwk",
        "outputId": "23314586-4b2a-4984-9d83-9be2481d134e"
      },
      "execution_count": 27,
      "outputs": [
        {
          "output_type": "stream",
          "name": "stdout",
          "text": [
            "Sanity check batch 0, loss: 1.6118, acc: 17.1875\n",
            "Sanity check batch 0, loss: 3.7349, acc: 12.5000\n",
            "Sanity check batch 1, loss: 1.6340, acc: 16.6667\n",
            "Sanity check batch 1, loss: 1.5636, acc: 18.3594\n",
            "Sanity check batch 2, loss: 1.5891, acc: 19.0625\n",
            "Sanity check batch 2, loss: 1.5310, acc: 21.8750\n",
            "Sanity check batch 3, loss: 1.4962, acc: 23.8839\n",
            "Sanity check batch 3, loss: 1.4346, acc: 25.3906\n",
            "Sanity check batch 4, loss: 1.3349, acc: 27.2569\n",
            "Sanity check batch 4, loss: 1.3260, acc: 28.4375\n",
            "Sanity check batch 5, loss: 1.3067, acc: 29.6875\n",
            "Sanity check batch 5, loss: 1.1739, acc: 31.2500\n",
            "Sanity check batch 6, loss: 1.2253, acc: 32.2115\n",
            "Sanity check batch 6, loss: 1.1095, acc: 33.4821\n",
            "Sanity check batch 7, loss: 1.1668, acc: 34.4792\n",
            "Sanity check batch 7, loss: 1.0048, acc: 35.8398\n",
            "Sanity check batch 8, loss: 1.0770, acc: 37.0404\n",
            "Sanity check batch 8, loss: 0.9532, acc: 38.6285\n",
            "Sanity check batch 9, loss: 0.9596, acc: 39.5559\n",
            "Sanity check batch 9, loss: 0.8560, acc: 41.0938\n",
            "Sanity check batch 10, loss: 0.9409, acc: 42.1131\n",
            "Sanity check batch 10, loss: 0.7227, acc: 43.5369\n",
            "Sanity check batch 11, loss: 0.8427, acc: 44.2935\n",
            "Sanity check batch 11, loss: 0.7123, acc: 45.5729\n",
            "Sanity check batch 12, loss: 0.7826, acc: 46.2500\n",
            "Sanity check batch 12, loss: 0.5569, acc: 47.4760\n",
            "Sanity check batch 13, loss: 0.7417, acc: 48.2060\n",
            "Sanity check batch 13, loss: 0.5099, acc: 49.2746\n",
            "Sanity check batch 14, loss: 0.5938, acc: 50.1616\n",
            "Sanity check batch 14, loss: 0.4463, acc: 51.2500\n",
            "Sanity check batch 15, loss: 0.4654, acc: 52.1673\n",
            "Sanity check batch 15, loss: 0.3617, acc: 53.3691\n",
            "Sanity check batch 16, loss: 0.4867, acc: 54.2140\n",
            "Sanity check batch 16, loss: 0.3170, acc: 55.1471\n",
            "Sanity check batch 17, loss: 0.2955, acc: 56.1161\n",
            "Sanity check batch 17, loss: 0.2766, acc: 57.0747\n",
            "Sanity check batch 18, loss: 0.2298, acc: 58.0659\n",
            "Sanity check batch 18, loss: 0.1612, acc: 59.0461\n",
            "Sanity check batch 19, loss: 0.3080, acc: 59.8558\n",
            "Sanity check batch 19, loss: 0.1206, acc: 60.7812\n",
            "Epoch 32, Val loss: 2.7086, Accuracy: 45.40%\n"
          ]
        }
      ]
    },
    {
      "cell_type": "code",
      "source": [
        "def train_epoch(model, epoch):\n",
        "    criterion = nn.CrossEntropyLoss()\n",
        "    if isinstance(model, SimpleCNN):\n",
        "        params = model.parameters()\n",
        "    else:\n",
        "        params = model.head.parameters()\n",
        "    optimizer = optim.Adam(params, lr=LR)\n",
        "\n",
        "    model.train()\n",
        "    running_loss = 0\n",
        "    correct = 0\n",
        "    total = 0\n",
        "    for batch_idx, (images, labels) in enumerate(train_loader):\n",
        "        images, labels = images.to(device), labels.to(device)\n",
        "        optimizer.zero_grad()\n",
        "        outputs = model(images)\n",
        "        loss = criterion(outputs, labels)\n",
        "        loss.backward()\n",
        "        optimizer.step()\n",
        "\n",
        "        running_loss += loss.item()\n",
        "        _, predicted = outputs.max(1)\n",
        "        total += labels.size(0)\n",
        "        correct += predicted.eq(labels).sum().item()\n",
        "\n",
        "        # Логируем гистограммы весов и градиентов для первых слоев\n",
        "        for name, param in model.named_parameters():\n",
        "            writer.add_histogram(name, param, epoch)\n",
        "            if param.grad is not None:\n",
        "                writer.add_histogram(name + '/grad', param.grad, epoch)\n",
        "\n",
        "    acc = correct / total * 100.0\n",
        "    avg_loss = running_loss / len(train_loader)\n",
        "    print(f\"Epoch {epoch}, Train loss: {avg_loss:.4f}, Accuracy: {acc:.2f}%\")\n",
        "\n",
        "    writer.add_scalar('Train/Loss', avg_loss, epoch)\n",
        "    writer.add_scalar('Train/Accuracy', acc, epoch)\n",
        "    writer.add_scalar('Train/Learning_Rate', optimizer.param_groups[0]['lr'], epoch)"
      ],
      "metadata": {
        "id": "qriaytMtdyWn"
      },
      "execution_count": 28,
      "outputs": []
    },
    {
      "cell_type": "code",
      "source": [],
      "metadata": {
        "id": "8PX8dkZHeBvW"
      },
      "execution_count": 31,
      "outputs": []
    },
    {
      "cell_type": "code",
      "source": [
        "# TRAINING CNN #\n",
        "\n",
        "model = SimpleCNN(num_classes=len(selected_classes)).to(device)\n",
        "\n",
        "num_epochs = 20\n",
        "for epoch in range(1, num_epochs + 1):\n",
        "    train_epoch(model, epoch)\n",
        "    validate(model, epoch)\n",
        "\n",
        "writer.close()"
      ],
      "metadata": {
        "colab": {
          "base_uri": "https://localhost:8080/",
          "height": 408
        },
        "id": "2mbt__LieEzu",
        "outputId": "61da663b-2e51-4cb6-dd58-6b72c93c599a"
      },
      "execution_count": 16,
      "outputs": [
        {
          "output_type": "error",
          "ename": "KeyboardInterrupt",
          "evalue": "",
          "traceback": [
            "\u001b[0;31m---------------------------------------------------------------------------\u001b[0m",
            "\u001b[0;31mAttributeError\u001b[0m                            Traceback (most recent call last)",
            "\u001b[0;32m/usr/local/lib/python3.12/dist-packages/numpy/_core/fromnumeric.py\u001b[0m in \u001b[0;36mndim\u001b[0;34m(a)\u001b[0m\n\u001b[1;32m   3299\u001b[0m     \u001b[0;32mtry\u001b[0m\u001b[0;34m:\u001b[0m\u001b[0;34m\u001b[0m\u001b[0;34m\u001b[0m\u001b[0m\n\u001b[0;32m-> 3300\u001b[0;31m         \u001b[0;32mreturn\u001b[0m \u001b[0ma\u001b[0m\u001b[0;34m.\u001b[0m\u001b[0mndim\u001b[0m\u001b[0;34m\u001b[0m\u001b[0;34m\u001b[0m\u001b[0m\n\u001b[0m\u001b[1;32m   3301\u001b[0m     \u001b[0;32mexcept\u001b[0m \u001b[0mAttributeError\u001b[0m\u001b[0;34m:\u001b[0m\u001b[0;34m\u001b[0m\u001b[0;34m\u001b[0m\u001b[0m\n",
            "\u001b[0;31mAttributeError\u001b[0m: 'list' object has no attribute 'ndim'",
            "\nDuring handling of the above exception, another exception occurred:\n",
            "\u001b[0;31mKeyboardInterrupt\u001b[0m                         Traceback (most recent call last)",
            "\u001b[0;32m/tmp/ipython-input-2501838017.py\u001b[0m in \u001b[0;36m<cell line: 0>\u001b[0;34m()\u001b[0m\n\u001b[1;32m      5\u001b[0m \u001b[0mnum_epochs\u001b[0m \u001b[0;34m=\u001b[0m \u001b[0;36m20\u001b[0m\u001b[0;34m\u001b[0m\u001b[0;34m\u001b[0m\u001b[0m\n\u001b[1;32m      6\u001b[0m \u001b[0;32mfor\u001b[0m \u001b[0mepoch\u001b[0m \u001b[0;32min\u001b[0m \u001b[0mrange\u001b[0m\u001b[0;34m(\u001b[0m\u001b[0;36m1\u001b[0m\u001b[0;34m,\u001b[0m \u001b[0mnum_epochs\u001b[0m \u001b[0;34m+\u001b[0m \u001b[0;36m1\u001b[0m\u001b[0;34m)\u001b[0m\u001b[0;34m:\u001b[0m\u001b[0;34m\u001b[0m\u001b[0;34m\u001b[0m\u001b[0m\n\u001b[0;32m----> 7\u001b[0;31m     \u001b[0mtrain_epoch\u001b[0m\u001b[0;34m(\u001b[0m\u001b[0mmodel\u001b[0m\u001b[0;34m,\u001b[0m \u001b[0mepoch\u001b[0m\u001b[0;34m)\u001b[0m\u001b[0;34m\u001b[0m\u001b[0;34m\u001b[0m\u001b[0m\n\u001b[0m\u001b[1;32m      8\u001b[0m     \u001b[0mvalidate\u001b[0m\u001b[0;34m(\u001b[0m\u001b[0mmodel\u001b[0m\u001b[0;34m,\u001b[0m \u001b[0mepoch\u001b[0m\u001b[0;34m)\u001b[0m\u001b[0;34m\u001b[0m\u001b[0;34m\u001b[0m\u001b[0m\n\u001b[1;32m      9\u001b[0m \u001b[0;34m\u001b[0m\u001b[0m\n",
            "\u001b[0;32m/tmp/ipython-input-2236242499.py\u001b[0m in \u001b[0;36mtrain_epoch\u001b[0;34m(model, epoch)\u001b[0m\n\u001b[1;32m     26\u001b[0m         \u001b[0;31m# Логируем гистограммы весов и градиентов для первых слоев\u001b[0m\u001b[0;34m\u001b[0m\u001b[0;34m\u001b[0m\u001b[0m\n\u001b[1;32m     27\u001b[0m         \u001b[0;32mfor\u001b[0m \u001b[0mname\u001b[0m\u001b[0;34m,\u001b[0m \u001b[0mparam\u001b[0m \u001b[0;32min\u001b[0m \u001b[0mmodel\u001b[0m\u001b[0;34m.\u001b[0m\u001b[0mnamed_parameters\u001b[0m\u001b[0;34m(\u001b[0m\u001b[0;34m)\u001b[0m\u001b[0;34m:\u001b[0m\u001b[0;34m\u001b[0m\u001b[0;34m\u001b[0m\u001b[0m\n\u001b[0;32m---> 28\u001b[0;31m             \u001b[0mwriter\u001b[0m\u001b[0;34m.\u001b[0m\u001b[0madd_histogram\u001b[0m\u001b[0;34m(\u001b[0m\u001b[0mname\u001b[0m\u001b[0;34m,\u001b[0m \u001b[0mparam\u001b[0m\u001b[0;34m,\u001b[0m \u001b[0mepoch\u001b[0m\u001b[0;34m)\u001b[0m\u001b[0;34m\u001b[0m\u001b[0;34m\u001b[0m\u001b[0m\n\u001b[0m\u001b[1;32m     29\u001b[0m             \u001b[0;32mif\u001b[0m \u001b[0mparam\u001b[0m\u001b[0;34m.\u001b[0m\u001b[0mgrad\u001b[0m \u001b[0;32mis\u001b[0m \u001b[0;32mnot\u001b[0m \u001b[0;32mNone\u001b[0m\u001b[0;34m:\u001b[0m\u001b[0;34m\u001b[0m\u001b[0;34m\u001b[0m\u001b[0m\n\u001b[1;32m     30\u001b[0m                 \u001b[0mwriter\u001b[0m\u001b[0;34m.\u001b[0m\u001b[0madd_histogram\u001b[0m\u001b[0;34m(\u001b[0m\u001b[0mname\u001b[0m \u001b[0;34m+\u001b[0m \u001b[0;34m'/grad'\u001b[0m\u001b[0;34m,\u001b[0m \u001b[0mparam\u001b[0m\u001b[0;34m.\u001b[0m\u001b[0mgrad\u001b[0m\u001b[0;34m,\u001b[0m \u001b[0mepoch\u001b[0m\u001b[0;34m)\u001b[0m\u001b[0;34m\u001b[0m\u001b[0;34m\u001b[0m\u001b[0m\n",
            "\u001b[0;32m/usr/local/lib/python3.12/dist-packages/torch/utils/tensorboard/writer.py\u001b[0m in \u001b[0;36madd_histogram\u001b[0;34m(self, tag, values, global_step, bins, walltime, max_bins)\u001b[0m\n\u001b[1;32m    497\u001b[0m             \u001b[0mbins\u001b[0m \u001b[0;34m=\u001b[0m \u001b[0mself\u001b[0m\u001b[0;34m.\u001b[0m\u001b[0mdefault_bins\u001b[0m\u001b[0;34m\u001b[0m\u001b[0;34m\u001b[0m\u001b[0m\n\u001b[1;32m    498\u001b[0m         self._get_file_writer().add_summary(\n\u001b[0;32m--> 499\u001b[0;31m             \u001b[0mhistogram\u001b[0m\u001b[0;34m(\u001b[0m\u001b[0mtag\u001b[0m\u001b[0;34m,\u001b[0m \u001b[0mvalues\u001b[0m\u001b[0;34m,\u001b[0m \u001b[0mbins\u001b[0m\u001b[0;34m,\u001b[0m \u001b[0mmax_bins\u001b[0m\u001b[0;34m=\u001b[0m\u001b[0mmax_bins\u001b[0m\u001b[0;34m)\u001b[0m\u001b[0;34m,\u001b[0m \u001b[0mglobal_step\u001b[0m\u001b[0;34m,\u001b[0m \u001b[0mwalltime\u001b[0m\u001b[0;34m\u001b[0m\u001b[0;34m\u001b[0m\u001b[0m\n\u001b[0m\u001b[1;32m    500\u001b[0m         )\n\u001b[1;32m    501\u001b[0m \u001b[0;34m\u001b[0m\u001b[0m\n",
            "\u001b[0;32m/usr/local/lib/python3.12/dist-packages/torch/utils/tensorboard/summary.py\u001b[0m in \u001b[0;36mhistogram\u001b[0;34m(name, values, bins, max_bins)\u001b[0m\n\u001b[1;32m    483\u001b[0m     \"\"\"\n\u001b[1;32m    484\u001b[0m     \u001b[0mvalues\u001b[0m \u001b[0;34m=\u001b[0m \u001b[0mmake_np\u001b[0m\u001b[0;34m(\u001b[0m\u001b[0mvalues\u001b[0m\u001b[0;34m)\u001b[0m\u001b[0;34m\u001b[0m\u001b[0;34m\u001b[0m\u001b[0m\n\u001b[0;32m--> 485\u001b[0;31m     \u001b[0mhist\u001b[0m \u001b[0;34m=\u001b[0m \u001b[0mmake_histogram\u001b[0m\u001b[0;34m(\u001b[0m\u001b[0mvalues\u001b[0m\u001b[0;34m.\u001b[0m\u001b[0mastype\u001b[0m\u001b[0;34m(\u001b[0m\u001b[0mfloat\u001b[0m\u001b[0;34m)\u001b[0m\u001b[0;34m,\u001b[0m \u001b[0mbins\u001b[0m\u001b[0;34m,\u001b[0m \u001b[0mmax_bins\u001b[0m\u001b[0;34m)\u001b[0m\u001b[0;34m\u001b[0m\u001b[0;34m\u001b[0m\u001b[0m\n\u001b[0m\u001b[1;32m    486\u001b[0m     \u001b[0;32mreturn\u001b[0m \u001b[0mSummary\u001b[0m\u001b[0;34m(\u001b[0m\u001b[0mvalue\u001b[0m\u001b[0;34m=\u001b[0m\u001b[0;34m[\u001b[0m\u001b[0mSummary\u001b[0m\u001b[0;34m.\u001b[0m\u001b[0mValue\u001b[0m\u001b[0;34m(\u001b[0m\u001b[0mtag\u001b[0m\u001b[0;34m=\u001b[0m\u001b[0mname\u001b[0m\u001b[0;34m,\u001b[0m \u001b[0mhisto\u001b[0m\u001b[0;34m=\u001b[0m\u001b[0mhist\u001b[0m\u001b[0;34m)\u001b[0m\u001b[0;34m]\u001b[0m\u001b[0;34m)\u001b[0m\u001b[0;34m\u001b[0m\u001b[0;34m\u001b[0m\u001b[0m\n\u001b[1;32m    487\u001b[0m \u001b[0;34m\u001b[0m\u001b[0m\n",
            "\u001b[0;32m/usr/local/lib/python3.12/dist-packages/torch/utils/tensorboard/summary.py\u001b[0m in \u001b[0;36mmake_histogram\u001b[0;34m(values, bins, max_bins)\u001b[0m\n\u001b[1;32m    492\u001b[0m         \u001b[0;32mraise\u001b[0m \u001b[0mValueError\u001b[0m\u001b[0;34m(\u001b[0m\u001b[0;34m\"The input has no element.\"\u001b[0m\u001b[0;34m)\u001b[0m\u001b[0;34m\u001b[0m\u001b[0;34m\u001b[0m\u001b[0m\n\u001b[1;32m    493\u001b[0m     \u001b[0mvalues\u001b[0m \u001b[0;34m=\u001b[0m \u001b[0mvalues\u001b[0m\u001b[0;34m.\u001b[0m\u001b[0mreshape\u001b[0m\u001b[0;34m(\u001b[0m\u001b[0;34m-\u001b[0m\u001b[0;36m1\u001b[0m\u001b[0;34m)\u001b[0m\u001b[0;34m\u001b[0m\u001b[0;34m\u001b[0m\u001b[0m\n\u001b[0;32m--> 494\u001b[0;31m     \u001b[0mcounts\u001b[0m\u001b[0;34m,\u001b[0m \u001b[0mlimits\u001b[0m \u001b[0;34m=\u001b[0m \u001b[0mnp\u001b[0m\u001b[0;34m.\u001b[0m\u001b[0mhistogram\u001b[0m\u001b[0;34m(\u001b[0m\u001b[0mvalues\u001b[0m\u001b[0;34m,\u001b[0m \u001b[0mbins\u001b[0m\u001b[0;34m=\u001b[0m\u001b[0mbins\u001b[0m\u001b[0;34m)\u001b[0m\u001b[0;34m\u001b[0m\u001b[0;34m\u001b[0m\u001b[0m\n\u001b[0m\u001b[1;32m    495\u001b[0m     \u001b[0mnum_bins\u001b[0m \u001b[0;34m=\u001b[0m \u001b[0mlen\u001b[0m\u001b[0;34m(\u001b[0m\u001b[0mcounts\u001b[0m\u001b[0;34m)\u001b[0m\u001b[0;34m\u001b[0m\u001b[0;34m\u001b[0m\u001b[0m\n\u001b[1;32m    496\u001b[0m     \u001b[0;32mif\u001b[0m \u001b[0mmax_bins\u001b[0m \u001b[0;32mis\u001b[0m \u001b[0;32mnot\u001b[0m \u001b[0;32mNone\u001b[0m \u001b[0;32mand\u001b[0m \u001b[0mnum_bins\u001b[0m \u001b[0;34m>\u001b[0m \u001b[0mmax_bins\u001b[0m\u001b[0;34m:\u001b[0m\u001b[0;34m\u001b[0m\u001b[0;34m\u001b[0m\u001b[0m\n",
            "\u001b[0;32m/usr/local/lib/python3.12/dist-packages/numpy/lib/_histograms_impl.py\u001b[0m in \u001b[0;36mhistogram\u001b[0;34m(a, bins, range, density, weights)\u001b[0m\n\u001b[1;32m    788\u001b[0m     \u001b[0ma\u001b[0m\u001b[0;34m,\u001b[0m \u001b[0mweights\u001b[0m \u001b[0;34m=\u001b[0m \u001b[0m_ravel_and_check_weights\u001b[0m\u001b[0;34m(\u001b[0m\u001b[0ma\u001b[0m\u001b[0;34m,\u001b[0m \u001b[0mweights\u001b[0m\u001b[0;34m)\u001b[0m\u001b[0;34m\u001b[0m\u001b[0;34m\u001b[0m\u001b[0m\n\u001b[1;32m    789\u001b[0m \u001b[0;34m\u001b[0m\u001b[0m\n\u001b[0;32m--> 790\u001b[0;31m     \u001b[0mbin_edges\u001b[0m\u001b[0;34m,\u001b[0m \u001b[0muniform_bins\u001b[0m \u001b[0;34m=\u001b[0m \u001b[0m_get_bin_edges\u001b[0m\u001b[0;34m(\u001b[0m\u001b[0ma\u001b[0m\u001b[0;34m,\u001b[0m \u001b[0mbins\u001b[0m\u001b[0;34m,\u001b[0m \u001b[0mrange\u001b[0m\u001b[0;34m,\u001b[0m \u001b[0mweights\u001b[0m\u001b[0;34m)\u001b[0m\u001b[0;34m\u001b[0m\u001b[0;34m\u001b[0m\u001b[0m\n\u001b[0m\u001b[1;32m    791\u001b[0m \u001b[0;34m\u001b[0m\u001b[0m\n\u001b[1;32m    792\u001b[0m     \u001b[0;31m# Histogram is an integer or a float array depending on the weights.\u001b[0m\u001b[0;34m\u001b[0m\u001b[0;34m\u001b[0m\u001b[0m\n",
            "\u001b[0;32m/usr/local/lib/python3.12/dist-packages/numpy/lib/_histograms_impl.py\u001b[0m in \u001b[0;36m_get_bin_edges\u001b[0;34m(a, bins, range, weights)\u001b[0m\n\u001b[1;32m    417\u001b[0m                 \u001b[0mn_equal_bins\u001b[0m \u001b[0;34m=\u001b[0m \u001b[0;36m1\u001b[0m\u001b[0;34m\u001b[0m\u001b[0;34m\u001b[0m\u001b[0m\n\u001b[1;32m    418\u001b[0m \u001b[0;34m\u001b[0m\u001b[0m\n\u001b[0;32m--> 419\u001b[0;31m     \u001b[0;32melif\u001b[0m \u001b[0mnp\u001b[0m\u001b[0;34m.\u001b[0m\u001b[0mndim\u001b[0m\u001b[0;34m(\u001b[0m\u001b[0mbins\u001b[0m\u001b[0;34m)\u001b[0m \u001b[0;34m==\u001b[0m \u001b[0;36m0\u001b[0m\u001b[0;34m:\u001b[0m\u001b[0;34m\u001b[0m\u001b[0;34m\u001b[0m\u001b[0m\n\u001b[0m\u001b[1;32m    420\u001b[0m         \u001b[0;32mtry\u001b[0m\u001b[0;34m:\u001b[0m\u001b[0;34m\u001b[0m\u001b[0;34m\u001b[0m\u001b[0m\n\u001b[1;32m    421\u001b[0m             \u001b[0mn_equal_bins\u001b[0m \u001b[0;34m=\u001b[0m \u001b[0moperator\u001b[0m\u001b[0;34m.\u001b[0m\u001b[0mindex\u001b[0m\u001b[0;34m(\u001b[0m\u001b[0mbins\u001b[0m\u001b[0;34m)\u001b[0m\u001b[0;34m\u001b[0m\u001b[0;34m\u001b[0m\u001b[0m\n",
            "\u001b[0;32m/usr/local/lib/python3.12/dist-packages/numpy/_core/fromnumeric.py\u001b[0m in \u001b[0;36mndim\u001b[0;34m(a)\u001b[0m\n\u001b[1;32m   3300\u001b[0m         \u001b[0;32mreturn\u001b[0m \u001b[0ma\u001b[0m\u001b[0;34m.\u001b[0m\u001b[0mndim\u001b[0m\u001b[0;34m\u001b[0m\u001b[0;34m\u001b[0m\u001b[0m\n\u001b[1;32m   3301\u001b[0m     \u001b[0;32mexcept\u001b[0m \u001b[0mAttributeError\u001b[0m\u001b[0;34m:\u001b[0m\u001b[0;34m\u001b[0m\u001b[0;34m\u001b[0m\u001b[0m\n\u001b[0;32m-> 3302\u001b[0;31m         \u001b[0;32mreturn\u001b[0m \u001b[0masarray\u001b[0m\u001b[0;34m(\u001b[0m\u001b[0ma\u001b[0m\u001b[0;34m)\u001b[0m\u001b[0;34m.\u001b[0m\u001b[0mndim\u001b[0m\u001b[0;34m\u001b[0m\u001b[0;34m\u001b[0m\u001b[0m\n\u001b[0m\u001b[1;32m   3303\u001b[0m \u001b[0;34m\u001b[0m\u001b[0m\n\u001b[1;32m   3304\u001b[0m \u001b[0;34m\u001b[0m\u001b[0m\n",
            "\u001b[0;31mKeyboardInterrupt\u001b[0m: "
          ]
        }
      ]
    },
    {
      "cell_type": "code",
      "source": [],
      "metadata": {
        "id": "nIo4NRmhmxVC"
      },
      "execution_count": null,
      "outputs": []
    },
    {
      "cell_type": "markdown",
      "source": [
        "## ViT-Tiny"
      ],
      "metadata": {
        "id": "YJ57ZOUP6NMw"
      }
    },
    {
      "cell_type": "code",
      "source": [
        "import timm\n",
        "import torch.nn as nn\n",
        "import torch.profiler"
      ],
      "metadata": {
        "id": "V5hGq6_B6Phk"
      },
      "execution_count": 29,
      "outputs": []
    },
    {
      "cell_type": "code",
      "source": [
        "model_vit = timm.create_model('vit_tiny_patch16_224', pretrained=True).to(device)\n",
        "\n",
        "for param in model_vit.parameters():\n",
        "    param.requires_grad = False\n",
        "\n",
        "model_vit.head = nn.Linear(192, CLASS_CNT)\n",
        "\n",
        "params_to_optimize = model_vit.head.parameters()"
      ],
      "metadata": {
        "id": "gNvc6IQE7Dt1"
      },
      "execution_count": 30,
      "outputs": []
    },
    {
      "cell_type": "code",
      "source": [
        "def train_with_profiling(model, dataloader, device, epochs=50):\n",
        "    model = model.to(device)\n",
        "    model.train()\n",
        "    criterion = nn.CrossEntropyLoss()\n",
        "    if isinstance(model, SimpleCNN):\n",
        "        params = model.parameters()\n",
        "    else:\n",
        "        params = model.head.parameters()\n",
        "    optimizer = optim.Adam(params, lr=LR)\n",
        "\n",
        "    profiler = torch.profiler.profile(\n",
        "        schedule=torch.profiler.schedule(wait=0, warmup=0, active=epochs, repeat=0),\n",
        "        on_trace_ready=torch.profiler.tensorboard_trace_handler('./log/profiler'),\n",
        "        record_shapes=True,\n",
        "        with_stack=True\n",
        "    )\n",
        "\n",
        "    profiler.start()\n",
        "    for epoch, (inputs, labels) in enumerate(dataloader):\n",
        "        if epoch >= epochs:\n",
        "            break\n",
        "        inputs, labels = inputs.to(device), labels.to(device)\n",
        "        optimizer.zero_grad()\n",
        "        outputs = model(inputs)\n",
        "        loss = criterion(outputs, labels)\n",
        "        loss.backward()\n",
        "        optimizer.step()\n",
        "        profiler.step()\n",
        "    profiler.stop()\n"
      ],
      "metadata": {
        "id": "EKQ9cmvk7aVX"
      },
      "execution_count": 31,
      "outputs": []
    },
    {
      "cell_type": "code",
      "source": [
        "# TRAINING CNN #\n",
        "\n",
        "model_cnn = SimpleCNN(num_classes=len(selected_classes)).to(device)\n",
        "train_with_profiling(model_cnn, train_loader, device, epochs=120)"
      ],
      "metadata": {
        "colab": {
          "base_uri": "https://localhost:8080/"
        },
        "id": "nINjtbs8CH7t",
        "outputId": "1a36b57a-7179-4195-84bb-86605a43b090"
      },
      "execution_count": 56,
      "outputs": [
        {
          "output_type": "stream",
          "name": "stderr",
          "text": [
            "/usr/local/lib/python3.12/dist-packages/torch/profiler/profiler.py:509: UserWarning: Profiler won't be using warmup, this can skew profiler results\n",
            "  warn(\"Profiler won't be using warmup, this can skew profiler results\")\n"
          ]
        }
      ]
    },
    {
      "cell_type": "code",
      "source": [
        "# TRAINING ViT #\n",
        "\n",
        "# DATASET #\n",
        "\n",
        "# Трансформации с аугментациями\n",
        "train_transform_vit = transforms.Compose([\n",
        "    transforms.RandomResizedCrop(224),\n",
        "    transforms.RandomHorizontalFlip(),\n",
        "    transforms.ToTensor(),\n",
        "    transforms.Normalize(CIFAR_MEAN, CIFAR_STD),\n",
        "])\n",
        "\n",
        "full_train = datasets.CIFAR100(root='./data', train=True, download=True, transform=train_transform_vit)\n",
        "\n",
        "# Фильтрация по выбранным классам\n",
        "indices = [i for i, label in enumerate(full_train.targets) if label in selected_classes]\n",
        "subset = Subset(full_train, indices)\n",
        "\n",
        "train_size = int(0.8 * len(subset))\n",
        "val_size = len(subset) - train_size\n",
        "train_subset_vit, val_subset_vit = random_split(subset, [train_size, val_size])\n",
        "\n",
        "val_subset_vit.dataset.transform = val_transform\n",
        "\n",
        "# Даталоадеры\n",
        "train_loader_vit = DataLoader(train_subset_vit, batch_size=BATCH_SIZE, shuffle=True, num_workers=2)\n",
        "val_loader_vit = DataLoader(val_subset_vit, batch_size=BATCH_SIZE, shuffle=False, num_workers=2)\n",
        "\n",
        "\n",
        "train_with_profiling(model_vit, train_loader_vit, device, epochs=120)"
      ],
      "metadata": {
        "id": "cJyhLgflCKxz"
      },
      "execution_count": 57,
      "outputs": []
    },
    {
      "cell_type": "markdown",
      "source": [
        "## Сравнение моделей"
      ],
      "metadata": {
        "id": "qPs9Cn5C9u16"
      }
    },
    {
      "cell_type": "code",
      "source": [
        "from sklearn.metrics import accuracy_score, f1_score, confusion_matrix, ConfusionMatrixDisplay\n",
        "import matplotlib.pyplot as plt\n",
        "import numpy as np\n",
        "\n",
        "def evaluate_model(model, dataloader, device):\n",
        "    model.eval()\n",
        "    preds = []\n",
        "    targets = []\n",
        "    with torch.no_grad():\n",
        "        for images, labels in dataloader:\n",
        "            images = images.to(device)\n",
        "            outputs = model(images)\n",
        "            _, predicted = torch.max(outputs, 1)\n",
        "            preds.extend(predicted.cpu().numpy())\n",
        "            targets.extend(labels.numpy())\n",
        "\n",
        "    accuracy = accuracy_score(targets, preds)\n",
        "    macro_f1 = f1_score(targets, preds, average='macro')\n",
        "    cm = confusion_matrix(targets, preds)\n",
        "    return accuracy, macro_f1, cm\n",
        "\n",
        "def plot_confusion_matrix(cm, class_names, title):\n",
        "    disp = ConfusionMatrixDisplay(confusion_matrix=cm, display_labels=class_names)\n",
        "    disp.plot(cmap=plt.cm.Blues)\n",
        "    plt.title(title)\n",
        "    plt.show()"
      ],
      "metadata": {
        "id": "vtlq6jPm9uNL"
      },
      "execution_count": 58,
      "outputs": []
    },
    {
      "cell_type": "code",
      "source": [
        "class_names = selected_classes\n",
        "\n",
        "acc_cnn, f1_cnn, cm_cnn = evaluate_model(model_cnn, val_loader, device)\n",
        "acc_vit, f1_vit, cm_vit = evaluate_model(model_vit, val_loader_vit, device)\n",
        "\n",
        "print(f'CNN Accuracy: {acc_cnn:.4f}, Macro-F1: {f1_cnn:.4f}')\n",
        "print(f'ViT-Tiny Accuracy: {acc_vit:.4f}, Macro-F1: {f1_vit:.4f}')\n",
        "\n",
        "plot_confusion_matrix(cm_cnn, class_names, 'CNN Confusion Matrix')\n",
        "plot_confusion_matrix(cm_vit, class_names, 'ViT-Tiny Confusion Matrix')\n"
      ],
      "metadata": {
        "colab": {
          "base_uri": "https://localhost:8080/",
          "height": 962
        },
        "id": "bRtZVVSlJeny",
        "outputId": "f7ea3945-4bd6-4602-c0de-87bbf437e6ff"
      },
      "execution_count": 59,
      "outputs": [
        {
          "output_type": "stream",
          "name": "stdout",
          "text": [
            "CNN Accuracy: 0.4980, Macro-F1: 0.4777\n",
            "ViT-Tiny Accuracy: 0.8000, Macro-F1: 0.7870\n"
          ]
        },
        {
          "output_type": "display_data",
          "data": {
            "text/plain": [
              "<Figure size 640x480 with 2 Axes>"
            ],
            "image/png": "[encoded data removed]"
          },
          "metadata": {}
        },
        {
          "output_type": "display_data",
          "data": {
            "text/plain": [
              "<Figure size 640x480 with 2 Axes>"
            ],
            "image/png": "[encoded data removed]"
          },
          "metadata": {}
        }
      ]
    },
    {
      "cell_type": "code",
      "source": [],
      "metadata": {
        "id": "pGBK2KpSPght"
      },
      "execution_count": null,
      "outputs": []
    }
  ],
  "metadata": {
    "colab": {
      "provenance": [],
      "gpuType": "T4",
      "include_colab_link": true
    },
    "kernelspec": {
      "display_name": "Python 3",
      "name": "python3"
    },
    "accelerator": "GPU"
  },
  "nbformat": 4,
  "nbformat_minor": 0
}