{
  "cells": [
    {
      "cell_type": "markdown",
      "metadata": {
        "id": "view-in-github",
        "colab_type": "text"
      },
      "source": [
        "<a href=\"https://colab.research.google.com/github/saltysallysmine/MIPT-CV-Homeworks/blob/main/CV_HW_1.ipynb\" target=\"_parent\"><img src=\"https://colab.research.google.com/assets/colab-badge.svg\" alt=\"Open In Colab\"/></a>"
      ]
    },
    {
      "cell_type": "markdown",
      "source": [
        "# Computer Vision. Homework 1. Тренировочный цикл и linear probe на ViT-Tiny\n",
        "\n",
        "Датасет: CIFAR-100 (из torchvision)"
      ],
      "metadata": {
        "id": "54iRxenyfD9i"
      }
    },
    {
      "cell_type": "markdown",
      "source": [
        "## CNN"
      ],
      "metadata": {
        "id": "-92aekGD59FU"
      }
    },
    {
      "cell_type": "code",
      "execution_count": null,
      "metadata": {
        "id": "lIYdn1woOS1n"
      },
      "outputs": [],
      "source": [
        "import torch\n",
        "import torch.nn as nn\n",
        "import torch.optim as optim\n",
        "from torchvision import datasets, transforms\n",
        "from torch.utils.data import DataLoader, Subset, random_split\n",
        "from torch.utils.tensorboard import SummaryWriter\n",
        "import numpy as np\n",
        "import random"
      ]
    },
    {
      "cell_type": "code",
      "source": [
        "# SEEDS #\n",
        "seed = 124\n",
        "torch.manual_seed(seed)\n",
        "np.random.seed(seed)\n",
        "random.seed(seed)\n",
        "torch.backends.cudnn.deterministic = True\n",
        "torch.backends.cudnn.benchmark = False"
      ],
      "metadata": {
        "id": "Nqh3dh6BZIn8"
      },
      "execution_count": null,
      "outputs": []
    },
    {
      "cell_type": "code",
      "source": [
        "# CONSTANTS #\n",
        "\n",
        "CIFAR_MEAN = (0.5071, 0.4867, 0.4408)\n",
        "# CIFAR_STD = (0.2675, 0.2565, 0.2761)\n",
        "CIFAR_STD = (0.2470, 0.2435, 0.2616)\n",
        "\n",
        "CLASS_CNT = 5\n",
        "\n",
        "LR = 1e-3 * 5\n",
        "BATCH_SIZE = 64"
      ],
      "metadata": {
        "id": "JXvV7ofdevbv"
      },
      "execution_count": null,
      "outputs": []
    },
    {
      "cell_type": "code",
      "source": [
        "# 5 классов выбора\n",
        "selected_classes = list(range(CLASS_CNT))\n",
        "\n",
        "# Трансформации с аугментациями\n",
        "train_transform = transforms.Compose([\n",
        "    transforms.RandomResizedCrop(32),\n",
        "    transforms.RandomHorizontalFlip(),\n",
        "    transforms.ToTensor(),\n",
        "    transforms.Normalize(CIFAR_MEAN, CIFAR_STD),\n",
        "])\n",
        "val_transform = transforms.Compose([\n",
        "    transforms.ToTensor(),\n",
        "    transforms.Normalize(CIFAR_MEAN, CIFAR_STD),\n",
        "])"
      ],
      "metadata": {
        "id": "_jL9QVeMblWG"
      },
      "execution_count": null,
      "outputs": []
    },
    {
      "cell_type": "code",
      "source": [
        "# DATASET #\n",
        "\n",
        "full_train = datasets.CIFAR100(root='./data', train=True, download=True, transform=train_transform)\n",
        "\n",
        "# Фильтрация по выбранным классам\n",
        "indices = [i for i, label in enumerate(full_train.targets) if label in selected_classes]\n",
        "subset = Subset(full_train, indices)\n",
        "\n",
        "train_size = int(0.8 * len(subset))\n",
        "val_size = len(subset) - train_size\n",
        "train_subset, val_subset = random_split(subset, [train_size, val_size])\n",
        "\n",
        "val_subset.dataset.transform = val_transform\n",
        "\n",
        "# Даталоадеры\n",
        "train_loader = DataLoader(train_subset, batch_size=BATCH_SIZE, shuffle=True, num_workers=2)\n",
        "val_loader = DataLoader(val_subset, batch_size=BATCH_SIZE, shuffle=False, num_workers=2)"
      ],
      "metadata": {
        "id": "NkpgHh6KcaDA"
      },
      "execution_count": null,
      "outputs": []
    },
    {
      "cell_type": "code",
      "source": [
        "print(train_size, val_size)"
      ],
      "metadata": {
        "id": "5g1ACetHjmxS"
      },
      "execution_count": null,
      "outputs": []
    },
    {
      "cell_type": "code",
      "source": [],
      "metadata": {
        "id": "aQjVWyZ_3a2B"
      },
      "execution_count": null,
      "outputs": []
    },
    {
      "cell_type": "code",
      "source": [
        "class SimpleCNN(nn.Module):\n",
        "    def __init__(self, num_classes=5):\n",
        "        super().__init__()\n",
        "        self.features = nn.Sequential(\n",
        "            nn.Conv2d(3, 32, kernel_size=3, padding=1),  # 32x32x32\n",
        "            nn.LeakyReLU(),\n",
        "            nn.MaxPool2d(2),                             # 32x16x16\n",
        "            nn.Conv2d(32, 64, kernel_size=3, padding=1), # 64x16x16\n",
        "            nn.LeakyReLU(),\n",
        "            nn.MaxPool2d(2),                             # 64x8x8\n",
        "            nn.Conv2d(64, 128, kernel_size=3, padding=1),# 128x8x8\n",
        "            nn.LeakyReLU(),\n",
        "            nn.MaxPool2d(2),                             # 128x4x4\n",
        "        )\n",
        "        self.classifier = nn.Sequential(\n",
        "            nn.Flatten(),\n",
        "            nn.Linear(128*4*4, 256),\n",
        "            nn.LeakyReLU(),\n",
        "            nn.Linear(256, num_classes),\n",
        "        )\n",
        "\n",
        "    def forward(self, x):\n",
        "        x = self.features(x)\n",
        "        x = self.classifier(x)\n",
        "        return x"
      ],
      "metadata": {
        "id": "6GxVk8Pfcd1j"
      },
      "execution_count": null,
      "outputs": []
    },
    {
      "cell_type": "code",
      "source": [
        "device = torch.device('cuda' if torch.cuda.is_available() else 'cpu')"
      ],
      "metadata": {
        "id": "q9jzfH54cj-r"
      },
      "execution_count": null,
      "outputs": []
    },
    {
      "cell_type": "code",
      "source": [
        "def validate(model, epoch):\n",
        "    criterion = nn.CrossEntropyLoss()\n",
        "    if isinstance(model, SimpleCNN):\n",
        "        params = model.parameters()\n",
        "    else:\n",
        "        params = model.head.parameters()\n",
        "    optimizer = optim.Adam(params, lr=LR)\n",
        "\n",
        "    model.eval()\n",
        "    running_loss = 0\n",
        "    correct = 0\n",
        "    total = 0\n",
        "    with torch.no_grad():\n",
        "        for images, labels in val_loader:\n",
        "            images, labels = images.to(device), labels.to(device)\n",
        "            outputs = model(images)\n",
        "            loss = criterion(outputs, labels)\n",
        "            running_loss += loss.item()\n",
        "            _, predicted = outputs.max(1)\n",
        "            total += labels.size(0)\n",
        "            correct += predicted.eq(labels).sum().item()\n",
        "\n",
        "    acc = correct / total * 100.0\n",
        "    avg_loss = running_loss / len(val_loader)\n",
        "    print(f\"Epoch {epoch}, Val loss: {avg_loss:.4f}, Accuracy: {acc:.2f}%\")\n",
        "\n",
        "    writer.add_scalar('Val/Loss', avg_loss, epoch)\n",
        "    writer.add_scalar('Val/Accuracy', acc, epoch)"
      ],
      "metadata": {
        "id": "-2LVS9EVn_-K"
      },
      "execution_count": null,
      "outputs": []
    },
    {
      "cell_type": "code",
      "source": [
        "# TensorBoard логгер\n",
        "writer = SummaryWriter('runs/cifar100_simple_cnn')\n",
        "\n",
        "def sanity_check(model):\n",
        "    criterion = nn.CrossEntropyLoss()\n",
        "    if isinstance(model, SimpleCNN):\n",
        "        params = model.parameters()\n",
        "    else:\n",
        "        params = model.head.parameters()\n",
        "    optimizer = optim.Adam(params, lr=LR)\n",
        "\n",
        "    model.train()\n",
        "    correct = 0\n",
        "    total = 0\n",
        "    for i, (images, labels) in enumerate(train_loader):\n",
        "        if i > 20:\n",
        "            break\n",
        "        images, labels = images.to(device), labels.to(device)\n",
        "        optimizer.zero_grad()\n",
        "        outputs = model(images)\n",
        "        loss = criterion(outputs, labels)\n",
        "        loss.backward()\n",
        "        optimizer.step()\n",
        "\n",
        "        _, predicted = outputs.max(1)\n",
        "        total += labels.size(0)\n",
        "        correct += predicted.eq(labels).sum().item()\n",
        "        print(f'Sanity check batch {i}, loss: {loss.item():.4f}, acc: {correct / total * 100.0:.4f}')\n",
        "        # validate(i)"
      ],
      "metadata": {
        "id": "541a1ZBidnmT"
      },
      "execution_count": null,
      "outputs": []
    },
    {
      "cell_type": "code",
      "source": [
        "model = SimpleCNN(num_classes=len(selected_classes)).to(device)\n",
        "sanity_check(model)\n",
        "validate(model, len(train_loader))"
      ],
      "metadata": {
        "id": "y1npzqF6zGwk"
      },
      "execution_count": null,
      "outputs": []
    },
    {
      "cell_type": "code",
      "source": [
        "def train_epoch(model, epoch):\n",
        "    criterion = nn.CrossEntropyLoss()\n",
        "    if isinstance(model, SimpleCNN):\n",
        "        params = model.parameters()\n",
        "    else:\n",
        "        params = model.head.parameters()\n",
        "    optimizer = optim.Adam(params, lr=LR)\n",
        "\n",
        "    model.train()\n",
        "    running_loss = 0\n",
        "    correct = 0\n",
        "    total = 0\n",
        "    for batch_idx, (images, labels) in enumerate(train_loader):\n",
        "        images, labels = images.to(device), labels.to(device)\n",
        "        optimizer.zero_grad()\n",
        "        outputs = model(images)\n",
        "        loss = criterion(outputs, labels)\n",
        "        loss.backward()\n",
        "        optimizer.step()\n",
        "\n",
        "        running_loss += loss.item()\n",
        "        _, predicted = outputs.max(1)\n",
        "        total += labels.size(0)\n",
        "        correct += predicted.eq(labels).sum().item()\n",
        "\n",
        "        # Логируем гистограммы весов и градиентов для первых слоев\n",
        "        for name, param in model.named_parameters():\n",
        "            writer.add_histogram(name, param, epoch)\n",
        "            if param.grad is not None:\n",
        "                writer.add_histogram(name + '/grad', param.grad, epoch)\n",
        "\n",
        "    acc = correct / total * 100.0\n",
        "    avg_loss = running_loss / len(train_loader)\n",
        "    print(f\"Epoch {epoch}, Train loss: {avg_loss:.4f}, Accuracy: {acc:.2f}%\")\n",
        "\n",
        "    writer.add_scalar('Train/Loss', avg_loss, epoch)\n",
        "    writer.add_scalar('Train/Accuracy', acc, epoch)\n",
        "    writer.add_scalar('Train/Learning_Rate', optimizer.param_groups[0]['lr'], epoch)"
      ],
      "metadata": {
        "id": "qriaytMtdyWn"
      },
      "execution_count": null,
      "outputs": []
    },
    {
      "cell_type": "code",
      "source": [],
      "metadata": {
        "id": "8PX8dkZHeBvW"
      },
      "execution_count": null,
      "outputs": []
    },
    {
      "cell_type": "code",
      "source": [
        "# TRAINING CNN #\n",
        "\n",
        "model = SimpleCNN(num_classes=len(selected_classes)).to(device)\n",
        "\n",
        "num_epochs = 20\n",
        "for epoch in range(1, num_epochs + 1):\n",
        "    train_epoch(model, epoch)\n",
        "    validate(model, epoch)\n",
        "\n",
        "writer.close()"
      ],
      "metadata": {
        "id": "2mbt__LieEzu"
      },
      "execution_count": null,
      "outputs": []
    },
    {
      "cell_type": "code",
      "source": [],
      "metadata": {
        "id": "nIo4NRmhmxVC"
      },
      "execution_count": null,
      "outputs": []
    },
    {
      "cell_type": "markdown",
      "source": [
        "## ViT-Tiny"
      ],
      "metadata": {
        "id": "YJ57ZOUP6NMw"
      }
    },
    {
      "cell_type": "code",
      "source": [
        "import timm\n",
        "import torch.nn as nn\n",
        "import torch.profiler"
      ],
      "metadata": {
        "id": "V5hGq6_B6Phk"
      },
      "execution_count": null,
      "outputs": []
    },
    {
      "cell_type": "code",
      "source": [
        "model_vit = timm.create_model('vit_tiny_patch16_224', pretrained=True)\n",
        "\n",
        "for param in model_vit.parameters():\n",
        "    param.requires_grad = False\n",
        "\n",
        "in_features = model_vit.head.in_features\n",
        "model_vit.head = nn.Linear(in_features, CLASS_CNT)\n",
        "\n",
        "params_to_optimize = model_vit.head.parameters()"
      ],
      "metadata": {
        "id": "gNvc6IQE7Dt1"
      },
      "execution_count": null,
      "outputs": []
    },
    {
      "cell_type": "code",
      "source": [
        "def train_with_profiling(model, dataloader, criterion, optimizer, device, steps=50):\n",
        "    model.train()\n",
        "    profiler = torch.profiler.profile(\n",
        "        schedule=torch.profiler.schedule(wait=0, warmup=0, active=steps, repeat=0),\n",
        "        on_trace_ready=torch.profiler.tensorboard_trace_handler('./log/profiler'),\n",
        "        record_shapes=True,\n",
        "        with_stack=True\n",
        "    )\n",
        "\n",
        "    profiler.start()\n",
        "    for step, (inputs, labels) in enumerate(dataloader):\n",
        "        if step >= steps:\n",
        "            break\n",
        "        inputs, labels = inputs.to(device), labels.to(device)\n",
        "        optimizer.zero_grad()\n",
        "        outputs = model(inputs)\n",
        "        loss = criterion(outputs, labels)\n",
        "        loss.backward()\n",
        "        optimizer.step()\n",
        "        profiler.step()\n",
        "    profiler.stop()\n"
      ],
      "metadata": {
        "id": "EKQ9cmvk7aVX"
      },
      "execution_count": null,
      "outputs": []
    },
    {
      "cell_type": "markdown",
      "source": [
        "## Сравнение моделей"
      ],
      "metadata": {
        "id": "qPs9Cn5C9u16"
      }
    },
    {
      "cell_type": "code",
      "source": [],
      "metadata": {
        "id": "vtlq6jPm9uNL"
      },
      "execution_count": null,
      "outputs": []
    }
  ],
  "metadata": {
    "colab": {
      "provenance": [],
      "include_colab_link": true
    },
    "kernelspec": {
      "display_name": "Python 3",
      "name": "python3"
    }
  },
  "nbformat": 4,
  "nbformat_minor": 0
}