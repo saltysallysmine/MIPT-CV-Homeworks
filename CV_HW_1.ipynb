{
  "cells": [
    {
      "cell_type": "markdown",
      "metadata": {
        "id": "view-in-github",
        "colab_type": "text"
      },
      "source": [
        "<a href=\"https://colab.research.google.com/github/saltysallysmine/MIPT-CV-Homeworks/blob/main/CV_HW_1.ipynb\" target=\"_parent\"><img src=\"https://colab.research.google.com/assets/colab-badge.svg\" alt=\"Open In Colab\"/></a>"
      ]
    },
    {
      "cell_type": "markdown",
      "source": [
        "# Computer Vision. Homework 1. Тренировочный цикл и linear probe на ViT-Tiny\n",
        "\n",
        "Датасет: CIFAR-100"
      ],
      "metadata": {
        "id": "54iRxenyfD9i"
      }
    },
    {
      "cell_type": "code",
      "execution_count": 61,
      "metadata": {
        "id": "lIYdn1woOS1n"
      },
      "outputs": [],
      "source": [
        "import torch\n",
        "import torch.nn as nn\n",
        "import torch.optim as optim\n",
        "from torchvision import datasets, transforms\n",
        "from torch.utils.data import DataLoader, Subset, random_split\n",
        "from torch.utils.tensorboard import SummaryWriter\n",
        "import numpy as np\n",
        "import random"
      ]
    },
    {
      "cell_type": "code",
      "source": [
        "# SEEDS #\n",
        "seed = 124\n",
        "torch.manual_seed(seed)\n",
        "np.random.seed(seed)\n",
        "random.seed(seed)\n",
        "torch.backends.cudnn.deterministic = True\n",
        "torch.backends.cudnn.benchmark = False"
      ],
      "metadata": {
        "id": "Nqh3dh6BZIn8"
      },
      "execution_count": 62,
      "outputs": []
    },
    {
      "cell_type": "code",
      "source": [
        "# CONSTANTS #\n",
        "CIFAR_MEAN = (0.5071, 0.4867, 0.4408)\n",
        "# CIFAR_STD = (0.2675, 0.2565, 0.2761)\n",
        "CIFAR_STD = (0.2470, 0.2435, 0.2616)\n",
        "\n",
        "LR = 1e-3"
      ],
      "metadata": {
        "id": "JXvV7ofdevbv"
      },
      "execution_count": 63,
      "outputs": []
    },
    {
      "cell_type": "code",
      "source": [
        "# 5 классов выбора\n",
        "selected_classes = [0, 1, 2, 3, 4]\n",
        "\n",
        "# Трансформации с аугментациями\n",
        "train_transform = transforms.Compose([\n",
        "    transforms.RandomResizedCrop(32),\n",
        "    transforms.RandomHorizontalFlip(),\n",
        "    transforms.ToTensor(),\n",
        "    transforms.Normalize(CIFAR_MEAN, CIFAR_STD),\n",
        "])\n",
        "val_transform = transforms.Compose([\n",
        "    transforms.ToTensor(),\n",
        "    transforms.Normalize(CIFAR_MEAN, CIFAR_STD),\n",
        "])"
      ],
      "metadata": {
        "id": "_jL9QVeMblWG"
      },
      "execution_count": 64,
      "outputs": []
    },
    {
      "cell_type": "code",
      "source": [
        "# DATASET #\n",
        "\n",
        "full_train = datasets.CIFAR100(root='./data', train=True, download=True, transform=train_transform)\n",
        "\n",
        "# Фильтрация по выбранным классам\n",
        "indices = [i for i, label in enumerate(full_train.targets) if label in selected_classes]\n",
        "subset = Subset(full_train, indices)\n",
        "\n",
        "train_size = int(0.8 * len(subset))\n",
        "val_size = len(subset) - train_size\n",
        "train_subset, val_subset = random_split(subset, [train_size, val_size])\n",
        "\n",
        "val_subset.dataset.transform = val_transform\n",
        "\n",
        "# Даталоадеры\n",
        "train_loader = DataLoader(train_subset, batch_size=64, shuffle=True, num_workers=2)\n",
        "val_loader = DataLoader(val_subset, batch_size=64, shuffle=False, num_workers=2)"
      ],
      "metadata": {
        "id": "NkpgHh6KcaDA"
      },
      "execution_count": 65,
      "outputs": []
    },
    {
      "cell_type": "code",
      "source": [
        "print(train_size, val_size)"
      ],
      "metadata": {
        "colab": {
          "base_uri": "https://localhost:8080/"
        },
        "id": "5g1ACetHjmxS",
        "outputId": "00ba6325-8d34-4081-9d1d-55e9e3c366e1"
      },
      "execution_count": 66,
      "outputs": [
        {
          "output_type": "stream",
          "name": "stdout",
          "text": [
            "2000 500\n"
          ]
        }
      ]
    },
    {
      "cell_type": "code",
      "source": [
        "class SimpleCNN(nn.Module):\n",
        "    def __init__(self, num_classes=5):\n",
        "        super().__init__()\n",
        "        self.features = nn.Sequential(\n",
        "            nn.Conv2d(3, 32, kernel_size=3, padding=1),  # 32x32x32\n",
        "            nn.LeakyReLU(),\n",
        "            nn.MaxPool2d(2),                             # 32x16x16\n",
        "            nn.Conv2d(32, 64, kernel_size=3, padding=1), # 64x16x16\n",
        "            nn.LeakyReLU(),\n",
        "            nn.MaxPool2d(2),                             # 64x8x8\n",
        "            nn.Conv2d(64, 128, kernel_size=3, padding=1),# 128x8x8\n",
        "            nn.LeakyReLU(),\n",
        "            nn.MaxPool2d(2),                             # 128x4x4\n",
        "        )\n",
        "        self.classifier = nn.Sequential(\n",
        "            nn.Flatten(),\n",
        "            nn.Linear(128*4*4, 256),\n",
        "            nn.LeakyReLU(),\n",
        "            nn.Linear(256, num_classes),\n",
        "        )\n",
        "\n",
        "    def forward(self, x):\n",
        "        x = self.features(x)\n",
        "        x = self.classifier(x)\n",
        "        return x"
      ],
      "metadata": {
        "id": "6GxVk8Pfcd1j"
      },
      "execution_count": 67,
      "outputs": []
    },
    {
      "cell_type": "code",
      "source": [
        "device = torch.device('cuda' if torch.cuda.is_available() else 'cpu')"
      ],
      "metadata": {
        "id": "q9jzfH54cj-r"
      },
      "execution_count": 74,
      "outputs": []
    },
    {
      "cell_type": "code",
      "source": [
        "def validate(model, epoch):\n",
        "    criterion = nn.CrossEntropyLoss()\n",
        "    optimizer = optim.Adam(model.parameters(), lr=LR)\n",
        "\n",
        "    model.eval()\n",
        "    running_loss = 0\n",
        "    correct = 0\n",
        "    total = 0\n",
        "    with torch.no_grad():\n",
        "        for images, labels in val_loader:\n",
        "            images, labels = images.to(device), labels.to(device)\n",
        "            outputs = model(images)\n",
        "            loss = criterion(outputs, labels)\n",
        "            running_loss += loss.item()\n",
        "            _, predicted = outputs.max(1)\n",
        "            total += labels.size(0)\n",
        "            correct += predicted.eq(labels).sum().item()\n",
        "\n",
        "    acc = correct / total * 100.0\n",
        "    avg_loss = running_loss / len(val_loader)\n",
        "    print(f\"Epoch {epoch}, Val loss: {avg_loss:.4f}, Accuracy: {acc:.2f}%\")\n",
        "\n",
        "    writer.add_scalar('Val/Loss', avg_loss, epoch)\n",
        "    writer.add_scalar('Val/Accuracy', acc, epoch)"
      ],
      "metadata": {
        "id": "-2LVS9EVn_-K"
      },
      "execution_count": 75,
      "outputs": []
    },
    {
      "cell_type": "code",
      "source": [
        "# TensorBoard логгер\n",
        "writer = SummaryWriter('runs/cifar100_simple_cnn')\n",
        "\n",
        "def sanity_check(model):\n",
        "    criterion = nn.CrossEntropyLoss()\n",
        "    optimizer = optim.Adam(model.parameters(), lr=LR)\n",
        "\n",
        "    model.train()\n",
        "    for i, (images, labels) in enumerate(train_loader):\n",
        "        if i > 35:\n",
        "            break\n",
        "        images, labels = images.to(device), labels.to(device)\n",
        "        optimizer.zero_grad()\n",
        "        outputs = model(images)\n",
        "        loss = criterion(outputs, labels)\n",
        "        loss.backward()\n",
        "        optimizer.step()\n",
        "        print(f'Sanity check batch {i}, loss: {loss.item():.4f}')\n",
        "        # validate(i)\n",
        "\n",
        "model = SimpleCNN(num_classes=len(selected_classes)).to(device)\n",
        "sanity_check(model)\n",
        "validate(model, len(train_loader))"
      ],
      "metadata": {
        "colab": {
          "base_uri": "https://localhost:8080/"
        },
        "id": "541a1ZBidnmT",
        "outputId": "1a384199-be33-4af2-fcd0-815d081bbce9"
      },
      "execution_count": 76,
      "outputs": [
        {
          "output_type": "stream",
          "name": "stdout",
          "text": [
            "Sanity check batch 0, loss: 1.6123\n",
            "Sanity check batch 1, loss: 1.5639\n",
            "Sanity check batch 2, loss: 1.6870\n",
            "Sanity check batch 3, loss: 1.5574\n",
            "Sanity check batch 4, loss: 1.6079\n",
            "Sanity check batch 5, loss: 1.5413\n",
            "Sanity check batch 6, loss: 1.5277\n",
            "Sanity check batch 7, loss: 1.4804\n",
            "Sanity check batch 8, loss: 1.3927\n",
            "Sanity check batch 9, loss: 1.5398\n",
            "Sanity check batch 10, loss: 1.3808\n",
            "Sanity check batch 11, loss: 1.4129\n",
            "Sanity check batch 12, loss: 1.2783\n",
            "Sanity check batch 13, loss: 1.2901\n",
            "Sanity check batch 14, loss: 1.3628\n",
            "Sanity check batch 15, loss: 1.3661\n",
            "Sanity check batch 16, loss: 1.3550\n",
            "Sanity check batch 17, loss: 1.2543\n",
            "Sanity check batch 18, loss: 1.2968\n",
            "Sanity check batch 19, loss: 1.4190\n",
            "Sanity check batch 20, loss: 1.3337\n",
            "Sanity check batch 21, loss: 1.3424\n",
            "Sanity check batch 22, loss: 1.2490\n",
            "Sanity check batch 23, loss: 1.3561\n",
            "Sanity check batch 24, loss: 1.1820\n",
            "Sanity check batch 25, loss: 1.1241\n",
            "Sanity check batch 26, loss: 1.3438\n",
            "Sanity check batch 27, loss: 1.2382\n",
            "Sanity check batch 28, loss: 1.2309\n",
            "Sanity check batch 29, loss: 1.2322\n",
            "Sanity check batch 30, loss: 1.2701\n",
            "Sanity check batch 31, loss: 1.3436\n",
            "Epoch 32, Val loss: 1.2039, Accuracy: 47.00%\n"
          ]
        }
      ]
    },
    {
      "cell_type": "code",
      "source": [
        "def train_epoch(model, epoch):\n",
        "    criterion = nn.CrossEntropyLoss()\n",
        "    optimizer = optim.Adam(model.parameters(), lr=LR)\n",
        "\n",
        "    model.train()\n",
        "    running_loss = 0\n",
        "    correct = 0\n",
        "    total = 0\n",
        "    for batch_idx, (images, labels) in enumerate(train_loader):\n",
        "        images, labels = images.to(device), labels.to(device)\n",
        "        optimizer.zero_grad()\n",
        "        outputs = model(images)\n",
        "        loss = criterion(outputs, labels)\n",
        "        loss.backward()\n",
        "        optimizer.step()\n",
        "\n",
        "        running_loss += loss.item()\n",
        "        _, predicted = outputs.max(1)\n",
        "        total += labels.size(0)\n",
        "        correct += predicted.eq(labels).sum().item()\n",
        "\n",
        "        # Логируем гистограммы весов и градиентов для первых слоев\n",
        "        for name, param in model.named_parameters():\n",
        "            writer.add_histogram(name, param, epoch)\n",
        "            if param.grad is not None:\n",
        "                writer.add_histogram(name + '/grad', param.grad, epoch)\n",
        "\n",
        "    acc = correct / total * 100.0\n",
        "    avg_loss = running_loss / len(train_loader)\n",
        "    print(f\"Epoch {epoch}, Train loss: {avg_loss:.4f}, Accuracy: {acc:.2f}%\")\n",
        "\n",
        "    writer.add_scalar('Train/Loss', avg_loss, epoch)\n",
        "    writer.add_scalar('Train/Accuracy', acc, epoch)\n",
        "    writer.add_scalar('Train/Learning_Rate', optimizer.param_groups[0]['lr'], epoch)"
      ],
      "metadata": {
        "id": "qriaytMtdyWn"
      },
      "execution_count": 23,
      "outputs": []
    },
    {
      "cell_type": "code",
      "source": [],
      "metadata": {
        "id": "8PX8dkZHeBvW"
      },
      "execution_count": 24,
      "outputs": []
    },
    {
      "cell_type": "code",
      "source": [
        "# MAIN CODE #\n",
        "\n",
        "num_epochs = 10\n",
        "for epoch in range(1, num_epochs + 1):\n",
        "    train_epoch(model, epoch)\n",
        "    validate(model, epoch)\n",
        "\n",
        "writer.close()"
      ],
      "metadata": {
        "colab": {
          "base_uri": "https://localhost:8080/"
        },
        "id": "2mbt__LieEzu",
        "outputId": "cb18e432-443a-45a2-b272-c911ce4fc527"
      },
      "execution_count": 25,
      "outputs": [
        {
          "output_type": "stream",
          "name": "stdout",
          "text": [
            "Epoch 1, Train loss: 1.1228, Accuracy: 53.55%\n",
            "Epoch 1, Val loss: 1.1290, Accuracy: 51.80%\n",
            "Epoch 2, Train loss: 0.9875, Accuracy: 59.55%\n",
            "Epoch 2, Val loss: 0.9597, Accuracy: 60.20%\n",
            "Epoch 3, Train loss: 0.9300, Accuracy: 62.35%\n",
            "Epoch 3, Val loss: 0.9265, Accuracy: 61.80%\n",
            "Epoch 4, Train loss: 0.9156, Accuracy: 61.65%\n",
            "Epoch 4, Val loss: 0.8714, Accuracy: 65.40%\n",
            "Epoch 5, Train loss: 0.8760, Accuracy: 64.65%\n",
            "Epoch 5, Val loss: 0.8973, Accuracy: 64.80%\n",
            "Epoch 6, Train loss: 0.8499, Accuracy: 65.85%\n",
            "Epoch 6, Val loss: 0.8590, Accuracy: 65.40%\n",
            "Epoch 7, Train loss: 0.8352, Accuracy: 66.35%\n",
            "Epoch 7, Val loss: 0.8476, Accuracy: 67.60%\n",
            "Epoch 8, Train loss: 0.7921, Accuracy: 68.35%\n",
            "Epoch 8, Val loss: 0.8784, Accuracy: 67.60%\n",
            "Epoch 9, Train loss: 0.7701, Accuracy: 68.70%\n",
            "Epoch 9, Val loss: 0.8763, Accuracy: 65.40%\n",
            "Epoch 10, Train loss: 0.7700, Accuracy: 68.45%\n",
            "Epoch 10, Val loss: 0.8390, Accuracy: 66.60%\n"
          ]
        }
      ]
    },
    {
      "cell_type": "code",
      "source": [],
      "metadata": {
        "id": "nIo4NRmhmxVC"
      },
      "execution_count": null,
      "outputs": []
    }
  ],
  "metadata": {
    "colab": {
      "provenance": [],
      "include_colab_link": true
    },
    "kernelspec": {
      "display_name": "Python 3",
      "name": "python3"
    }
  },
  "nbformat": 4,
  "nbformat_minor": 0
}