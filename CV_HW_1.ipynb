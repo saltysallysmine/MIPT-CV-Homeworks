{
  "cells": [
    {
      "cell_type": "markdown",
      "metadata": {
        "id": "view-in-github",
        "colab_type": "text"
      },
      "source": [
        "<a href=\"https://colab.research.google.com/github/saltysallysmine/MIPT-CV-Homeworks/blob/main/CV_HW_1.ipynb\" target=\"_parent\"><img src=\"https://colab.research.google.com/assets/colab-badge.svg\" alt=\"Open In Colab\"/></a>"
      ]
    },
    {
      "cell_type": "markdown",
      "source": [
        "# Computer Vision. Homework 1. Тренировочный цикл и linear probe на ViT-Tiny\n",
        "\n",
        "Датасет: CIFAR-100 (из torchvision)"
      ],
      "metadata": {
        "id": "54iRxenyfD9i"
      }
    },
    {
      "cell_type": "markdown",
      "source": [
        "## CNN"
      ],
      "metadata": {
        "id": "-92aekGD59FU"
      }
    },
    {
      "cell_type": "code",
      "execution_count": 60,
      "metadata": {
        "id": "lIYdn1woOS1n"
      },
      "outputs": [],
      "source": [
        "import torch\n",
        "import torch.nn as nn\n",
        "import torch.optim as optim\n",
        "from torchvision import datasets, transforms\n",
        "from torch.utils.data import DataLoader, Subset, random_split\n",
        "from torch.utils.tensorboard import SummaryWriter\n",
        "import numpy as np\n",
        "import random"
      ]
    },
    {
      "cell_type": "code",
      "source": [
        "# SEEDS #\n",
        "seed = 124\n",
        "torch.manual_seed(seed)\n",
        "np.random.seed(seed)\n",
        "random.seed(seed)\n",
        "torch.backends.cudnn.deterministic = True\n",
        "torch.backends.cudnn.benchmark = False"
      ],
      "metadata": {
        "id": "Nqh3dh6BZIn8"
      },
      "execution_count": 61,
      "outputs": []
    },
    {
      "cell_type": "code",
      "source": [
        "# CONSTANTS #\n",
        "\n",
        "CIFAR_MEAN = (0.5071, 0.4867, 0.4408)\n",
        "# CIFAR_STD = (0.2675, 0.2565, 0.2761)\n",
        "CIFAR_STD = (0.2470, 0.2435, 0.2616)\n",
        "\n",
        "CLASS_CNT = 5\n",
        "\n",
        "LR = 1e-3 * 5\n",
        "BATCH_SIZE = 64"
      ],
      "metadata": {
        "id": "JXvV7ofdevbv"
      },
      "execution_count": 62,
      "outputs": []
    },
    {
      "cell_type": "code",
      "source": [
        "# 5 классов выбора\n",
        "selected_classes = list(range(CLASS_CNT))\n",
        "\n",
        "# Трансформации с аугментациями\n",
        "train_transform = transforms.Compose([\n",
        "    transforms.RandomResizedCrop(32),\n",
        "    transforms.RandomHorizontalFlip(),\n",
        "    transforms.ToTensor(),\n",
        "    transforms.Normalize(CIFAR_MEAN, CIFAR_STD),\n",
        "])\n",
        "val_transform = transforms.Compose([\n",
        "    transforms.ToTensor(),\n",
        "    transforms.Normalize(CIFAR_MEAN, CIFAR_STD),\n",
        "])"
      ],
      "metadata": {
        "id": "_jL9QVeMblWG"
      },
      "execution_count": 63,
      "outputs": []
    },
    {
      "cell_type": "code",
      "source": [
        "# DATASET #\n",
        "\n",
        "full_train = datasets.CIFAR100(root='./data', train=True, download=True, transform=train_transform)\n",
        "\n",
        "# Фильтрация по выбранным классам\n",
        "indices = [i for i, label in enumerate(full_train.targets) if label in selected_classes]\n",
        "subset = Subset(full_train, indices)\n",
        "\n",
        "train_size = int(0.8 * len(subset))\n",
        "val_size = len(subset) - train_size\n",
        "train_subset, val_subset = random_split(subset, [train_size, val_size])\n",
        "\n",
        "val_subset.dataset.transform = val_transform\n",
        "\n",
        "# Даталоадеры\n",
        "train_loader = DataLoader(train_subset, batch_size=BATCH_SIZE, shuffle=True, num_workers=2)\n",
        "val_loader = DataLoader(val_subset, batch_size=BATCH_SIZE, shuffle=False, num_workers=2)"
      ],
      "metadata": {
        "id": "NkpgHh6KcaDA"
      },
      "execution_count": 64,
      "outputs": []
    },
    {
      "cell_type": "code",
      "source": [
        "print(train_size, val_size)"
      ],
      "metadata": {
        "colab": {
          "base_uri": "https://localhost:8080/"
        },
        "id": "5g1ACetHjmxS",
        "outputId": "bae7cf9a-b13d-4128-cb83-a4991a06f616"
      },
      "execution_count": 65,
      "outputs": [
        {
          "output_type": "stream",
          "name": "stdout",
          "text": [
            "2000 500\n"
          ]
        }
      ]
    },
    {
      "cell_type": "code",
      "source": [],
      "metadata": {
        "id": "aQjVWyZ_3a2B"
      },
      "execution_count": 65,
      "outputs": []
    },
    {
      "cell_type": "code",
      "source": [
        "class SimpleCNN(nn.Module):\n",
        "    def __init__(self, num_classes=5):\n",
        "        super().__init__()\n",
        "        self.features = nn.Sequential(\n",
        "            nn.Conv2d(3, 32, kernel_size=3, padding=1),  # 32x32x32\n",
        "            nn.LeakyReLU(),\n",
        "            nn.MaxPool2d(2),                             # 32x16x16\n",
        "            nn.Conv2d(32, 64, kernel_size=3, padding=1), # 64x16x16\n",
        "            nn.LeakyReLU(),\n",
        "            nn.MaxPool2d(2),                             # 64x8x8\n",
        "            nn.Conv2d(64, 128, kernel_size=3, padding=1),# 128x8x8\n",
        "            nn.LeakyReLU(),\n",
        "            nn.MaxPool2d(2),                             # 128x4x4\n",
        "        )\n",
        "        self.classifier = nn.Sequential(\n",
        "            nn.Flatten(),\n",
        "            nn.Linear(128*4*4, 256),\n",
        "            nn.LeakyReLU(),\n",
        "            nn.Linear(256, num_classes),\n",
        "        )\n",
        "\n",
        "    def forward(self, x):\n",
        "        x = self.features(x)\n",
        "        x = self.classifier(x)\n",
        "        return x"
      ],
      "metadata": {
        "id": "6GxVk8Pfcd1j"
      },
      "execution_count": 66,
      "outputs": []
    },
    {
      "cell_type": "code",
      "source": [
        "device = torch.device('cuda' if torch.cuda.is_available() else 'cpu')"
      ],
      "metadata": {
        "id": "q9jzfH54cj-r"
      },
      "execution_count": 67,
      "outputs": []
    },
    {
      "cell_type": "code",
      "source": [
        "def validate(model, epoch):\n",
        "    criterion = nn.CrossEntropyLoss()\n",
        "    if isinstance(model, SimpleCNN):\n",
        "        params = model.parameters()\n",
        "    else:\n",
        "        params = model.head.parameters()\n",
        "    optimizer = optim.Adam(params, lr=LR)\n",
        "\n",
        "    model.eval()\n",
        "    running_loss = 0\n",
        "    correct = 0\n",
        "    total = 0\n",
        "    with torch.no_grad():\n",
        "        for images, labels in val_loader:\n",
        "            images, labels = images.to(device), labels.to(device)\n",
        "            outputs = model(images)\n",
        "            loss = criterion(outputs, labels)\n",
        "            running_loss += loss.item()\n",
        "            _, predicted = outputs.max(1)\n",
        "            total += labels.size(0)\n",
        "            correct += predicted.eq(labels).sum().item()\n",
        "\n",
        "    acc = correct / total * 100.0\n",
        "    avg_loss = running_loss / len(val_loader)\n",
        "    print(f\"Epoch {epoch}, Val loss: {avg_loss:.4f}, Accuracy: {acc:.2f}%\")\n",
        "\n",
        "    writer.add_scalar('Val/Loss', avg_loss, epoch)\n",
        "    writer.add_scalar('Val/Accuracy', acc, epoch)"
      ],
      "metadata": {
        "id": "-2LVS9EVn_-K"
      },
      "execution_count": 68,
      "outputs": []
    },
    {
      "cell_type": "code",
      "source": [
        "# TensorBoard логгер\n",
        "writer = SummaryWriter('runs/cifar100_simple_cnn')\n",
        "\n",
        "def sanity_check(model):\n",
        "    criterion = nn.CrossEntropyLoss()\n",
        "    if isinstance(model, SimpleCNN):\n",
        "        params = model.parameters()\n",
        "    else:\n",
        "        params = model.head.parameters()\n",
        "    optimizer = optim.Adam(params, lr=LR)\n",
        "\n",
        "    model.train()\n",
        "    correct = 0\n",
        "    total = 0\n",
        "\n",
        "    n_batches = 2\n",
        "    batches = [el for i, el in enumerate(train_loader) if i < n_batches]\n",
        "\n",
        "    for i in range(20):\n",
        "        for _, (images, labels) in enumerate(batches):\n",
        "            images, labels = images.to(device), labels.to(device)\n",
        "            optimizer.zero_grad()\n",
        "            outputs = model(images)\n",
        "            loss = criterion(outputs, labels)\n",
        "            loss.backward()\n",
        "            optimizer.step()\n",
        "\n",
        "            _, predicted = outputs.max(1)\n",
        "            total += labels.size(0)\n",
        "            correct += predicted.eq(labels).sum().item()\n",
        "            print(f'Sanity check batch {i}, loss: {loss.item():.4f}, acc: {correct / total * 100.0:.4f}')\n",
        "            # validate(i)"
      ],
      "metadata": {
        "id": "541a1ZBidnmT"
      },
      "execution_count": 69,
      "outputs": []
    },
    {
      "cell_type": "code",
      "source": [
        "model = SimpleCNN(num_classes=len(selected_classes)).to(device)\n",
        "sanity_check(model)\n",
        "validate(model, len(train_loader))"
      ],
      "metadata": {
        "colab": {
          "base_uri": "https://localhost:8080/"
        },
        "id": "y1npzqF6zGwk",
        "outputId": "4b3ccc92-53a9-49df-97f5-3db2016f3fbc"
      },
      "execution_count": 70,
      "outputs": [
        {
          "output_type": "stream",
          "name": "stdout",
          "text": [
            "Sanity check batch 0, loss: 1.6118, acc: 17.1875\n",
            "Sanity check batch 0, loss: 3.7349, acc: 12.5000\n",
            "Sanity check batch 1, loss: 1.6340, acc: 16.6667\n",
            "Sanity check batch 1, loss: 1.5636, acc: 18.3594\n",
            "Sanity check batch 2, loss: 1.5891, acc: 19.0625\n",
            "Sanity check batch 2, loss: 1.5310, acc: 21.8750\n",
            "Sanity check batch 3, loss: 1.4962, acc: 23.8839\n",
            "Sanity check batch 3, loss: 1.4346, acc: 25.3906\n",
            "Sanity check batch 4, loss: 1.3349, acc: 27.2569\n",
            "Sanity check batch 4, loss: 1.3260, acc: 28.4375\n",
            "Sanity check batch 5, loss: 1.3067, acc: 29.6875\n",
            "Sanity check batch 5, loss: 1.1739, acc: 31.2500\n",
            "Sanity check batch 6, loss: 1.2253, acc: 32.2115\n",
            "Sanity check batch 6, loss: 1.1095, acc: 33.4821\n",
            "Sanity check batch 7, loss: 1.1668, acc: 34.4792\n",
            "Sanity check batch 7, loss: 1.0048, acc: 35.8398\n",
            "Sanity check batch 8, loss: 1.0770, acc: 37.0404\n",
            "Sanity check batch 8, loss: 0.9532, acc: 38.6285\n",
            "Sanity check batch 9, loss: 0.9596, acc: 39.5559\n",
            "Sanity check batch 9, loss: 0.8560, acc: 41.0938\n",
            "Sanity check batch 10, loss: 0.9409, acc: 42.1131\n",
            "Sanity check batch 10, loss: 0.7227, acc: 43.5369\n",
            "Sanity check batch 11, loss: 0.8427, acc: 44.2935\n",
            "Sanity check batch 11, loss: 0.7123, acc: 45.5729\n",
            "Sanity check batch 12, loss: 0.7826, acc: 46.2500\n",
            "Sanity check batch 12, loss: 0.5569, acc: 47.4760\n",
            "Sanity check batch 13, loss: 0.7417, acc: 48.2060\n",
            "Sanity check batch 13, loss: 0.5099, acc: 49.2746\n",
            "Sanity check batch 14, loss: 0.5938, acc: 50.1616\n",
            "Sanity check batch 14, loss: 0.4463, acc: 51.2500\n",
            "Sanity check batch 15, loss: 0.4654, acc: 52.1673\n",
            "Sanity check batch 15, loss: 0.3617, acc: 53.3691\n",
            "Sanity check batch 16, loss: 0.4867, acc: 54.2140\n",
            "Sanity check batch 16, loss: 0.3170, acc: 55.1471\n",
            "Sanity check batch 17, loss: 0.2955, acc: 56.1161\n",
            "Sanity check batch 17, loss: 0.2766, acc: 57.0747\n",
            "Sanity check batch 18, loss: 0.2298, acc: 58.0659\n",
            "Sanity check batch 18, loss: 0.1612, acc: 59.0461\n",
            "Sanity check batch 19, loss: 0.3080, acc: 59.8558\n",
            "Sanity check batch 19, loss: 0.1206, acc: 60.7812\n",
            "Epoch 32, Val loss: 2.7086, Accuracy: 45.40%\n"
          ]
        }
      ]
    },
    {
      "cell_type": "code",
      "source": [
        "def train_epoch(model, epoch):\n",
        "    criterion = nn.CrossEntropyLoss()\n",
        "    if isinstance(model, SimpleCNN):\n",
        "        params = model.parameters()\n",
        "    else:\n",
        "        params = model.head.parameters()\n",
        "    optimizer = optim.Adam(params, lr=LR)\n",
        "\n",
        "    model.train()\n",
        "    running_loss = 0\n",
        "    correct = 0\n",
        "    total = 0\n",
        "    for batch_idx, (images, labels) in enumerate(train_loader):\n",
        "        images, labels = images.to(device), labels.to(device)\n",
        "        optimizer.zero_grad()\n",
        "        outputs = model(images)\n",
        "        loss = criterion(outputs, labels)\n",
        "        loss.backward()\n",
        "        optimizer.step()\n",
        "\n",
        "        running_loss += loss.item()\n",
        "        _, predicted = outputs.max(1)\n",
        "        total += labels.size(0)\n",
        "        correct += predicted.eq(labels).sum().item()\n",
        "\n",
        "        # Логируем гистограммы весов и градиентов для первых слоев\n",
        "        for name, param in model.named_parameters():\n",
        "            writer.add_histogram(name, param, epoch)\n",
        "            if param.grad is not None:\n",
        "                writer.add_histogram(name + '/grad', param.grad, epoch)\n",
        "\n",
        "    acc = correct / total * 100.0\n",
        "    avg_loss = running_loss / len(train_loader)\n",
        "    print(f\"Epoch {epoch}, Train loss: {avg_loss:.4f}, Accuracy: {acc:.2f}%\")\n",
        "\n",
        "    writer.add_scalar('Train/Loss', avg_loss, epoch)\n",
        "    writer.add_scalar('Train/Accuracy', acc, epoch)\n",
        "    writer.add_scalar('Train/Learning_Rate', optimizer.param_groups[0]['lr'], epoch)"
      ],
      "metadata": {
        "id": "qriaytMtdyWn"
      },
      "execution_count": 71,
      "outputs": []
    },
    {
      "cell_type": "code",
      "source": [],
      "metadata": {
        "id": "8PX8dkZHeBvW"
      },
      "execution_count": 71,
      "outputs": []
    },
    {
      "cell_type": "code",
      "source": [
        "# TRAINING CNN #\n",
        "\n",
        "model = SimpleCNN(num_classes=len(selected_classes)).to(device)\n",
        "\n",
        "num_epochs = 20\n",
        "for epoch in range(1, num_epochs + 1):\n",
        "    train_epoch(model, epoch)\n",
        "    validate(model, epoch)\n",
        "\n",
        "writer.close()"
      ],
      "metadata": {
        "colab": {
          "base_uri": "https://localhost:8080/"
        },
        "id": "2mbt__LieEzu",
        "outputId": "798f64bb-05ed-4188-beee-8c1f322624a4"
      },
      "execution_count": 72,
      "outputs": [
        {
          "output_type": "stream",
          "name": "stdout",
          "text": [
            "Epoch 1, Train loss: 1.3139, Accuracy: 44.40%\n",
            "Epoch 1, Val loss: 1.1066, Accuracy: 55.00%\n",
            "Epoch 2, Train loss: 1.1398, Accuracy: 51.85%\n",
            "Epoch 2, Val loss: 1.1324, Accuracy: 53.00%\n",
            "Epoch 3, Train loss: 1.1113, Accuracy: 52.80%\n",
            "Epoch 3, Val loss: 1.0720, Accuracy: 55.00%\n",
            "Epoch 4, Train loss: 1.0850, Accuracy: 56.45%\n",
            "Epoch 4, Val loss: 1.0123, Accuracy: 59.40%\n",
            "Epoch 5, Train loss: 1.1049, Accuracy: 56.35%\n",
            "Epoch 5, Val loss: 0.9613, Accuracy: 62.60%\n",
            "Epoch 6, Train loss: 1.0389, Accuracy: 58.85%\n",
            "Epoch 6, Val loss: 1.1009, Accuracy: 56.20%\n",
            "Epoch 7, Train loss: 1.0432, Accuracy: 58.65%\n",
            "Epoch 7, Val loss: 0.9468, Accuracy: 61.00%\n",
            "Epoch 8, Train loss: 0.9792, Accuracy: 61.00%\n",
            "Epoch 8, Val loss: 0.8943, Accuracy: 66.80%\n",
            "Epoch 9, Train loss: 0.9727, Accuracy: 60.95%\n",
            "Epoch 9, Val loss: 0.9585, Accuracy: 61.20%\n",
            "Epoch 10, Train loss: 0.9455, Accuracy: 62.90%\n",
            "Epoch 10, Val loss: 0.9239, Accuracy: 63.80%\n",
            "Epoch 11, Train loss: 0.8884, Accuracy: 64.80%\n",
            "Epoch 11, Val loss: 0.8917, Accuracy: 63.60%\n",
            "Epoch 12, Train loss: 0.9317, Accuracy: 61.95%\n",
            "Epoch 12, Val loss: 1.0719, Accuracy: 55.40%\n",
            "Epoch 13, Train loss: 0.8991, Accuracy: 63.25%\n",
            "Epoch 13, Val loss: 0.9395, Accuracy: 62.40%\n",
            "Epoch 14, Train loss: 0.9145, Accuracy: 64.30%\n",
            "Epoch 14, Val loss: 0.8913, Accuracy: 65.00%\n",
            "Epoch 15, Train loss: 0.9031, Accuracy: 62.65%\n",
            "Epoch 15, Val loss: 1.2279, Accuracy: 64.00%\n",
            "Epoch 16, Train loss: 0.8636, Accuracy: 64.95%\n",
            "Epoch 16, Val loss: 0.9183, Accuracy: 64.40%\n",
            "Epoch 17, Train loss: 0.8675, Accuracy: 64.05%\n",
            "Epoch 17, Val loss: 1.0933, Accuracy: 65.20%\n",
            "Epoch 18, Train loss: 0.9016, Accuracy: 64.15%\n",
            "Epoch 18, Val loss: 0.9397, Accuracy: 63.00%\n",
            "Epoch 19, Train loss: 0.9109, Accuracy: 62.95%\n",
            "Epoch 19, Val loss: 0.8943, Accuracy: 66.80%\n",
            "Epoch 20, Train loss: 0.8461, Accuracy: 66.50%\n",
            "Epoch 20, Val loss: 0.8679, Accuracy: 68.20%\n"
          ]
        }
      ]
    },
    {
      "cell_type": "code",
      "source": [],
      "metadata": {
        "id": "nIo4NRmhmxVC"
      },
      "execution_count": 72,
      "outputs": []
    },
    {
      "cell_type": "markdown",
      "source": [
        "## ViT-Tiny"
      ],
      "metadata": {
        "id": "YJ57ZOUP6NMw"
      }
    },
    {
      "cell_type": "code",
      "source": [
        "import timm\n",
        "import torch.nn as nn\n",
        "import torch.profiler"
      ],
      "metadata": {
        "id": "V5hGq6_B6Phk"
      },
      "execution_count": 73,
      "outputs": []
    },
    {
      "cell_type": "code",
      "source": [
        "model_vit = timm.create_model('vit_tiny_patch16_224', pretrained=True).to(device)\n",
        "\n",
        "for param in model_vit.parameters():\n",
        "    param.requires_grad = False\n",
        "\n",
        "model_vit.head = nn.Linear(192, CLASS_CNT)\n",
        "\n",
        "params_to_optimize = model_vit.head.parameters()"
      ],
      "metadata": {
        "id": "gNvc6IQE7Dt1"
      },
      "execution_count": 74,
      "outputs": []
    },
    {
      "cell_type": "code",
      "source": [
        "def train_with_profiling(model, dataloader, device, epochs=50):\n",
        "    model = model.to(device)\n",
        "    model.train()\n",
        "    criterion = nn.CrossEntropyLoss()\n",
        "    if isinstance(model, SimpleCNN):\n",
        "        params = model.parameters()\n",
        "    else:\n",
        "        params = model.head.parameters()\n",
        "    optimizer = optim.Adam(params, lr=LR)\n",
        "\n",
        "    profiler = torch.profiler.profile(\n",
        "        schedule=torch.profiler.schedule(wait=0, warmup=0, active=epochs, repeat=0),\n",
        "        on_trace_ready=torch.profiler.tensorboard_trace_handler('./log/profiler'),\n",
        "        record_shapes=True,\n",
        "        with_stack=True\n",
        "    )\n",
        "\n",
        "    profiler.start()\n",
        "    for epoch, (inputs, labels) in enumerate(dataloader):\n",
        "        if epoch >= epochs:\n",
        "            break\n",
        "        inputs, labels = inputs.to(device), labels.to(device)\n",
        "        optimizer.zero_grad()\n",
        "        outputs = model(inputs)\n",
        "        loss = criterion(outputs, labels)\n",
        "        loss.backward()\n",
        "        optimizer.step()\n",
        "        profiler.step()\n",
        "    profiler.stop()\n"
      ],
      "metadata": {
        "id": "EKQ9cmvk7aVX"
      },
      "execution_count": 75,
      "outputs": []
    },
    {
      "cell_type": "code",
      "source": [
        "# TRAINING CNN #\n",
        "\n",
        "model_cnn = SimpleCNN(num_classes=len(selected_classes)).to(device)\n",
        "train_with_profiling(model_cnn, train_loader, device, epochs=120)"
      ],
      "metadata": {
        "colab": {
          "base_uri": "https://localhost:8080/"
        },
        "id": "nINjtbs8CH7t",
        "outputId": "2d935c1a-443a-47d6-f1db-b59d4954a4ca"
      },
      "execution_count": 76,
      "outputs": [
        {
          "output_type": "stream",
          "name": "stderr",
          "text": [
            "/usr/local/lib/python3.12/dist-packages/torch/profiler/profiler.py:509: UserWarning: Profiler won't be using warmup, this can skew profiler results\n",
            "  warn(\"Profiler won't be using warmup, this can skew profiler results\")\n"
          ]
        }
      ]
    },
    {
      "cell_type": "code",
      "source": [
        "# TRAINING ViT #\n",
        "\n",
        "# DATASET #\n",
        "\n",
        "# Трансформации с аугментациями\n",
        "train_transform_vit = transforms.Compose([\n",
        "    transforms.RandomResizedCrop(224),\n",
        "    transforms.RandomHorizontalFlip(),\n",
        "    transforms.ToTensor(),\n",
        "    transforms.Normalize(CIFAR_MEAN, CIFAR_STD),\n",
        "])\n",
        "\n",
        "full_train = datasets.CIFAR100(root='./data', train=True, download=True, transform=train_transform_vit)\n",
        "\n",
        "# Фильтрация по выбранным классам\n",
        "indices = [i for i, label in enumerate(full_train.targets) if label in selected_classes]\n",
        "subset = Subset(full_train, indices)\n",
        "\n",
        "train_size = int(0.8 * len(subset))\n",
        "val_size = len(subset) - train_size\n",
        "train_subset_vit, val_subset_vit = random_split(subset, [train_size, val_size])\n",
        "\n",
        "val_subset_vit.dataset.transform = val_transform\n",
        "\n",
        "# Даталоадеры\n",
        "train_loader_vit = DataLoader(train_subset_vit, batch_size=BATCH_SIZE, shuffle=True, num_workers=2)\n",
        "val_loader_vit = DataLoader(val_subset_vit, batch_size=BATCH_SIZE, shuffle=False, num_workers=2)\n",
        "\n",
        "\n",
        "train_with_profiling(model_vit, train_loader_vit, device, epochs=120)"
      ],
      "metadata": {
        "id": "cJyhLgflCKxz"
      },
      "execution_count": 77,
      "outputs": []
    },
    {
      "cell_type": "markdown",
      "source": [
        "## Сравнение моделей"
      ],
      "metadata": {
        "id": "qPs9Cn5C9u16"
      }
    },
    {
      "cell_type": "code",
      "source": [
        "from sklearn.metrics import accuracy_score, f1_score, confusion_matrix, ConfusionMatrixDisplay\n",
        "import matplotlib.pyplot as plt\n",
        "import numpy as np\n",
        "\n",
        "def evaluate_model(model, dataloader, device):\n",
        "    model.eval()\n",
        "    preds = []\n",
        "    targets = []\n",
        "    with torch.no_grad():\n",
        "        for images, labels in dataloader:\n",
        "            images = images.to(device)\n",
        "            outputs = model(images)\n",
        "            _, predicted = torch.max(outputs, 1)\n",
        "            preds.extend(predicted.cpu().numpy())\n",
        "            targets.extend(labels.numpy())\n",
        "\n",
        "    accuracy = accuracy_score(targets, preds)\n",
        "    macro_f1 = f1_score(targets, preds, average='macro')\n",
        "    cm = confusion_matrix(targets, preds)\n",
        "    return accuracy, macro_f1, cm\n",
        "\n",
        "def plot_confusion_matrix(cm, class_names, title):\n",
        "    disp = ConfusionMatrixDisplay(confusion_matrix=cm, display_labels=class_names)\n",
        "    disp.plot(cmap=plt.cm.Blues)\n",
        "    plt.title(title)\n",
        "    plt.show()"
      ],
      "metadata": {
        "id": "vtlq6jPm9uNL"
      },
      "execution_count": 78,
      "outputs": []
    },
    {
      "cell_type": "code",
      "source": [
        "class_names = selected_classes\n",
        "\n",
        "acc_cnn, f1_cnn, cm_cnn = evaluate_model(model_cnn, val_loader, device)\n",
        "acc_vit, f1_vit, cm_vit = evaluate_model(model_vit, val_loader_vit, device)\n",
        "\n",
        "print(f'CNN Accuracy: {acc_cnn:.4f}, Macro-F1: {f1_cnn:.4f}')\n",
        "print(f'ViT-Tiny Accuracy: {acc_vit:.4f}, Macro-F1: {f1_vit:.4f}')\n",
        "\n",
        "plot_confusion_matrix(cm_cnn, class_names, 'CNN Confusion Matrix')\n",
        "plot_confusion_matrix(cm_vit, class_names, 'ViT-Tiny Confusion Matrix')\n"
      ],
      "metadata": {
        "colab": {
          "base_uri": "https://localhost:8080/",
          "height": 962
        },
        "id": "bRtZVVSlJeny",
        "outputId": "1cc121a3-2e06-4e32-95be-e07765167130"
      },
      "execution_count": 79,
      "outputs": [
        {
          "output_type": "stream",
          "name": "stdout",
          "text": [
            "CNN Accuracy: 0.5060, Macro-F1: 0.4577\n",
            "ViT-Tiny Accuracy: 0.7960, Macro-F1: 0.7875\n"
          ]
        },
        {
          "output_type": "display_data",
          "data": {
            "text/plain": [
              "<Figure size 640x480 with 2 Axes>"
            ],
            "image/png": "[encoded data removed]"
          },
          "metadata": {}
        },
        {
          "output_type": "display_data",
          "data": {
            "text/plain": [
              "<Figure size 640x480 with 2 Axes>"
            ],
            "image/png": "[encoded data removed]"
          },
          "metadata": {}
        }
      ]
    },
    {
      "cell_type": "code",
      "source": [],
      "metadata": {
        "id": "pGBK2KpSPght"
      },
      "execution_count": 79,
      "outputs": []
    }
  ],
  "metadata": {
    "colab": {
      "provenance": [],
      "gpuType": "T4",
      "include_colab_link": true
    },
    "kernelspec": {
      "display_name": "Python 3",
      "name": "python3"
    },
    "accelerator": "GPU"
  },
  "nbformat": 4,
  "nbformat_minor": 0
}